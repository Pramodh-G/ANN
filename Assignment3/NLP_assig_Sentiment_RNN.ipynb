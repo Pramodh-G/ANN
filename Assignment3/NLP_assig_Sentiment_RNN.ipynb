{
  "nbformat": 4,
  "nbformat_minor": 0,
  "metadata": {
    "kernelspec": {
      "display_name": "Python 3",
      "language": "python",
      "name": "python3"
    },
    "language_info": {
      "codemirror_mode": {
        "name": "ipython",
        "version": 3
      },
      "file_extension": ".py",
      "mimetype": "text/x-python",
      "name": "python",
      "nbconvert_exporter": "python",
      "pygments_lexer": "ipython3",
      "version": "3.5.3"
    },
    "colab": {
      "name": "NLP_assig_Sentiment_RNN.ipynb",
      "provenance": [],
      "toc_visible": true
    },
    "accelerator": "GPU"
  },
  "cells": [
    {
      "cell_type": "markdown",
      "metadata": {
        "id": "1GtWi2l_ZxTJ",
        "colab_type": "text"
      },
      "source": [
        "# Sentiment Analysis with an RNN\n",
        "\n",
        "In this notebook, you'll implement a recurrent neural network that performs sentiment analysis. Using an RNN rather than a feedfoward network is more accurate since we can include information about the *sequence* of words. Here we'll use a dataset of movie reviews, accompanied by labels.\n",
        "\n",
        "The architecture for this network is shown below.\n",
        "\n",
        "<img src=\"assets/network_diagram.png\" width=400px>\n",
        "\n",
        "Here, we'll pass in words to an embedding layer. We need an embedding layer because we have tens of thousands of words, so we'll need a more efficient representation for our input data than one-hot encoded vectors. You should have seen this before from the word2vec lesson. You can actually train up an embedding with word2vec and use it here. But it's good enough to just have an embedding layer and let the network learn the embedding table on it's own.\n",
        "\n",
        "From the embedding layer, the new representations will be passed to LSTM cells. These will add recurrent connections to the network so we can include information about the sequence of words in the data. Finally, the LSTM cells will go to a sigmoid output layer here. We're using the sigmoid because we're trying to predict if this text has positive or negative sentiment. The output layer will just be a single unit then, with a sigmoid activation function.\n",
        "\n",
        "We don't care about the sigmoid outputs except for the very last one, we can ignore the rest. We'll calculate the cost from the output of the last step and the training label."
      ]
    },
    {
      "cell_type": "code",
      "metadata": {
        "id": "5gmiFBpsa_TH",
        "colab_type": "code",
        "colab": {
          "base_uri": "https://localhost:8080/",
          "height": 399
        },
        "outputId": "70bf9034-f096-44b2-932d-1afcf33701c2"
      },
      "source": [
        "!nvidia-smi"
      ],
      "execution_count": 1,
      "outputs": [
        {
          "output_type": "stream",
          "text": [
            "Thu Jul 16 06:36:33 2020       \n",
            "+-----------------------------------------------------------------------------+\n",
            "| NVIDIA-SMI 450.51.05    Driver Version: 418.67       CUDA Version: 10.1     |\n",
            "|-------------------------------+----------------------+----------------------+\n",
            "| GPU  Name        Persistence-M| Bus-Id        Disp.A | Volatile Uncorr. ECC |\n",
            "| Fan  Temp  Perf  Pwr:Usage/Cap|         Memory-Usage | GPU-Util  Compute M. |\n",
            "|                               |                      |               MIG M. |\n",
            "|===============================+======================+======================|\n",
            "|   0  Tesla P100-PCIE...  Off  | 00000000:00:04.0 Off |                    0 |\n",
            "| N/A   35C    P0    27W / 250W |      0MiB / 16280MiB |      0%      Default |\n",
            "|                               |                      |                 ERR! |\n",
            "+-------------------------------+----------------------+----------------------+\n",
            "                                                                               \n",
            "+-----------------------------------------------------------------------------+\n",
            "| Processes:                                                                  |\n",
            "|  GPU   GI   CI        PID   Type   Process name                  GPU Memory |\n",
            "|        ID   ID                                                   Usage      |\n",
            "|=============================================================================|\n",
            "|  No running processes found                                                 |\n",
            "+-----------------------------------------------------------------------------+\n"
          ],
          "name": "stdout"
        }
      ]
    },
    {
      "cell_type": "code",
      "metadata": {
        "id": "KOTpDriAZxTL",
        "colab_type": "code",
        "colab": {}
      },
      "source": [
        "import numpy as np\n",
        "%tensorflow_version 1.x\n",
        "import tensorflow as tf"
      ],
      "execution_count": 5,
      "outputs": []
    },
    {
      "cell_type": "code",
      "metadata": {
        "id": "eUadFWvxZxTX",
        "colab_type": "code",
        "colab": {}
      },
      "source": [
        "with open('reviews.txt', 'r') as f:\n",
        "    reviews = f.read()\n",
        "with open('labels.txt', 'r') as f:\n",
        "    labels = f.read()"
      ],
      "execution_count": 6,
      "outputs": []
    },
    {
      "cell_type": "code",
      "metadata": {
        "id": "PqrDACZoZxTd",
        "colab_type": "code",
        "colab": {
          "base_uri": "https://localhost:8080/",
          "height": 157
        },
        "outputId": "aa9e70b2-26b0-4a86-fb93-f01ebf9dec8f"
      },
      "source": [
        "reviews[:2000]"
      ],
      "execution_count": 7,
      "outputs": [
        {
          "output_type": "execute_result",
          "data": {
            "application/vnd.google.colaboratory.intrinsic": {
              "type": "string"
            },
            "text/plain": [
              "'bromwell high is a cartoon comedy . it ran at the same time as some other programs about school life  such as  teachers  . my   years in the teaching profession lead me to believe that bromwell high  s satire is much closer to reality than is  teachers  . the scramble to survive financially  the insightful students who can see right through their pathetic teachers  pomp  the pettiness of the whole situation  all remind me of the schools i knew and their students . when i saw the episode in which a student repeatedly tried to burn down the school  i immediately recalled . . . . . . . . . at . . . . . . . . . . high . a classic line inspector i  m here to sack one of your teachers . student welcome to bromwell high . i expect that many adults of my age think that bromwell high is far fetched . what a pity that it isn  t   \\nstory of a man who has unnatural feelings for a pig . starts out with a opening scene that is a terrific example of absurd comedy . a formal orchestra audience is turned into an insane  violent mob by the crazy chantings of it  s singers . unfortunately it stays absurd the whole time with no general narrative eventually making it just too off putting . even those from the era should be turned off . the cryptic dialogue would make shakespeare seem easy to a third grader . on a technical level it  s better than you might think with some good cinematography by future great vilmos zsigmond . future stars sally kirkland and frederic forrest can be seen briefly .  \\nhomelessness  or houselessness as george carlin stated  has been an issue for years but never a plan to help those on the street that were once considered human who did everything from going to school  work  or vote for the matter . most people think of the homeless as just a lost cause while worrying about things such as racism  the war on iraq  pressuring kids to succeed  technology  the elections  inflation  or worrying if they  ll be next to end up on the streets .  br    br   but what if y'"
            ]
          },
          "metadata": {
            "tags": []
          },
          "execution_count": 7
        }
      ]
    },
    {
      "cell_type": "markdown",
      "metadata": {
        "id": "zS1NRNW0ZxTl",
        "colab_type": "text"
      },
      "source": [
        "## Data preprocessing\n",
        "\n",
        "The first step when building a neural network model is getting your data into the proper form to feed into the network. Since we're using embedding layers, we'll need to encode each word with an integer. We'll also want to clean it up a bit.\n",
        "\n",
        "You can see an example of the reviews data above. We'll want to get rid of those periods. Also, you might notice that the reviews are delimited with newlines `\\n`. To deal with those, I'm going to split the text into each review using `\\n` as the delimiter. Then I can combined all the reviews back together into one big string.\n",
        "\n",
        "First, let's remove all punctuation. Then get all the text without the newlines and split it into individual words."
      ]
    },
    {
      "cell_type": "code",
      "metadata": {
        "id": "5P3xkgHVZxTl",
        "colab_type": "code",
        "colab": {}
      },
      "source": [
        "from string import punctuation\n",
        "all_text = ''.join([c for c in reviews if c not in punctuation])\n",
        "reviews = all_text.split('\\n')\n",
        "\n",
        "all_text = ' '.join(reviews)\n",
        "words = all_text.split()"
      ],
      "execution_count": 8,
      "outputs": []
    },
    {
      "cell_type": "code",
      "metadata": {
        "id": "-NuSgI-XZxTr",
        "colab_type": "code",
        "colab": {
          "base_uri": "https://localhost:8080/",
          "height": 157
        },
        "outputId": "5af6d6ed-6ba8-4047-ce5b-4d82b81415e7"
      },
      "source": [
        "all_text[:2000]"
      ],
      "execution_count": 9,
      "outputs": [
        {
          "output_type": "execute_result",
          "data": {
            "application/vnd.google.colaboratory.intrinsic": {
              "type": "string"
            },
            "text/plain": [
              "'bromwell high is a cartoon comedy  it ran at the same time as some other programs about school life  such as  teachers   my   years in the teaching profession lead me to believe that bromwell high  s satire is much closer to reality than is  teachers   the scramble to survive financially  the insightful students who can see right through their pathetic teachers  pomp  the pettiness of the whole situation  all remind me of the schools i knew and their students  when i saw the episode in which a student repeatedly tried to burn down the school  i immediately recalled          at           high  a classic line inspector i  m here to sack one of your teachers  student welcome to bromwell high  i expect that many adults of my age think that bromwell high is far fetched  what a pity that it isn  t    story of a man who has unnatural feelings for a pig  starts out with a opening scene that is a terrific example of absurd comedy  a formal orchestra audience is turned into an insane  violent mob by the crazy chantings of it  s singers  unfortunately it stays absurd the whole time with no general narrative eventually making it just too off putting  even those from the era should be turned off  the cryptic dialogue would make shakespeare seem easy to a third grader  on a technical level it  s better than you might think with some good cinematography by future great vilmos zsigmond  future stars sally kirkland and frederic forrest can be seen briefly    homelessness  or houselessness as george carlin stated  has been an issue for years but never a plan to help those on the street that were once considered human who did everything from going to school  work  or vote for the matter  most people think of the homeless as just a lost cause while worrying about things such as racism  the war on iraq  pressuring kids to succeed  technology  the elections  inflation  or worrying if they  ll be next to end up on the streets   br    br   but what if you were given a bet to live on the st'"
            ]
          },
          "metadata": {
            "tags": []
          },
          "execution_count": 9
        }
      ]
    },
    {
      "cell_type": "code",
      "metadata": {
        "id": "XHgIHDz_ZxTw",
        "colab_type": "code",
        "colab": {
          "base_uri": "https://localhost:8080/",
          "height": 1000
        },
        "outputId": "b2dcc9d5-c241-48b9-aecd-56ab2dbb7677"
      },
      "source": [
        "words[:100]"
      ],
      "execution_count": 10,
      "outputs": [
        {
          "output_type": "execute_result",
          "data": {
            "text/plain": [
              "['bromwell',\n",
              " 'high',\n",
              " 'is',\n",
              " 'a',\n",
              " 'cartoon',\n",
              " 'comedy',\n",
              " 'it',\n",
              " 'ran',\n",
              " 'at',\n",
              " 'the',\n",
              " 'same',\n",
              " 'time',\n",
              " 'as',\n",
              " 'some',\n",
              " 'other',\n",
              " 'programs',\n",
              " 'about',\n",
              " 'school',\n",
              " 'life',\n",
              " 'such',\n",
              " 'as',\n",
              " 'teachers',\n",
              " 'my',\n",
              " 'years',\n",
              " 'in',\n",
              " 'the',\n",
              " 'teaching',\n",
              " 'profession',\n",
              " 'lead',\n",
              " 'me',\n",
              " 'to',\n",
              " 'believe',\n",
              " 'that',\n",
              " 'bromwell',\n",
              " 'high',\n",
              " 's',\n",
              " 'satire',\n",
              " 'is',\n",
              " 'much',\n",
              " 'closer',\n",
              " 'to',\n",
              " 'reality',\n",
              " 'than',\n",
              " 'is',\n",
              " 'teachers',\n",
              " 'the',\n",
              " 'scramble',\n",
              " 'to',\n",
              " 'survive',\n",
              " 'financially',\n",
              " 'the',\n",
              " 'insightful',\n",
              " 'students',\n",
              " 'who',\n",
              " 'can',\n",
              " 'see',\n",
              " 'right',\n",
              " 'through',\n",
              " 'their',\n",
              " 'pathetic',\n",
              " 'teachers',\n",
              " 'pomp',\n",
              " 'the',\n",
              " 'pettiness',\n",
              " 'of',\n",
              " 'the',\n",
              " 'whole',\n",
              " 'situation',\n",
              " 'all',\n",
              " 'remind',\n",
              " 'me',\n",
              " 'of',\n",
              " 'the',\n",
              " 'schools',\n",
              " 'i',\n",
              " 'knew',\n",
              " 'and',\n",
              " 'their',\n",
              " 'students',\n",
              " 'when',\n",
              " 'i',\n",
              " 'saw',\n",
              " 'the',\n",
              " 'episode',\n",
              " 'in',\n",
              " 'which',\n",
              " 'a',\n",
              " 'student',\n",
              " 'repeatedly',\n",
              " 'tried',\n",
              " 'to',\n",
              " 'burn',\n",
              " 'down',\n",
              " 'the',\n",
              " 'school',\n",
              " 'i',\n",
              " 'immediately',\n",
              " 'recalled',\n",
              " 'at',\n",
              " 'high']"
            ]
          },
          "metadata": {
            "tags": []
          },
          "execution_count": 10
        }
      ]
    },
    {
      "cell_type": "markdown",
      "metadata": {
        "id": "v_zq1-wuZxT1",
        "colab_type": "text"
      },
      "source": [
        "### Encoding the words\n",
        "\n",
        "The embedding lookup requires that we pass in integers to our network. The easiest way to do this is to create dictionaries that map the words in the vocabulary to integers. Then we can convert each of our reviews into integers so they can be passed into the network.\n",
        "\n",
        "> **Exercise:** Now you're going to encode the words with integers. Build a dictionary that maps words to integers. Later we're going to pad our input vectors with zeros, so make sure the integers **start at 1, not 0**.\n",
        "> Also, convert the reviews to integers and store the reviews in a new list called `reviews_ints`. "
      ]
    },
    {
      "cell_type": "code",
      "metadata": {
        "id": "79YnttDxZxT1",
        "colab_type": "code",
        "colab": {
          "base_uri": "https://localhost:8080/",
          "height": 1000
        },
        "outputId": "d247c81c-6fa3-4151-d21f-3524b9b0b8bf"
      },
      "source": [
        "vocab = sorted(set(words))\n",
        "# Create your dictionary that maps vocab words to integers here\n",
        "vocab_to_int = {word: idx for idx, word in enumerate(vocab, 1)}\n",
        "\n",
        "# Convert the reviews to integers, same shape as reviews list, but with integers\n",
        "reviews_ints = []\n",
        "for each in reviews:\n",
        "    reviews_ints.append([vocab_to_int[word] for word in each.split()])\n",
        "reviews_ints[0]"
      ],
      "execution_count": 11,
      "outputs": [
        {
          "output_type": "execute_result",
          "data": {
            "text/plain": [
              "[8210,\n",
              " 29951,\n",
              " 33665,\n",
              " 1,\n",
              " 9819,\n",
              " 12477,\n",
              " 33768,\n",
              " 52591,\n",
              " 3689,\n",
              " 65543,\n",
              " 56451,\n",
              " 66137,\n",
              " 3397,\n",
              " 60807,\n",
              " 46549,\n",
              " 51107,\n",
              " 181,\n",
              " 57199,\n",
              " 37775,\n",
              " 63328,\n",
              " 3397,\n",
              " 64947,\n",
              " 43774,\n",
              " 73400,\n",
              " 32081,\n",
              " 65543,\n",
              " 64949,\n",
              " 51048,\n",
              " 37169,\n",
              " 40892,\n",
              " 66340,\n",
              " 5656,\n",
              " 65523,\n",
              " 8210,\n",
              " 29951,\n",
              " 56131,\n",
              " 56749,\n",
              " 33665,\n",
              " 43370,\n",
              " 11909,\n",
              " 66340,\n",
              " 52995,\n",
              " 65500,\n",
              " 33665,\n",
              " 64947,\n",
              " 65543,\n",
              " 57391,\n",
              " 66340,\n",
              " 63897,\n",
              " 23639,\n",
              " 65543,\n",
              " 32899,\n",
              " 62982,\n",
              " 72144,\n",
              " 9324,\n",
              " 57754,\n",
              " 55004,\n",
              " 65910,\n",
              " 65571,\n",
              " 47835,\n",
              " 64947,\n",
              " 49909,\n",
              " 65543,\n",
              " 48678,\n",
              " 45809,\n",
              " 65543,\n",
              " 72153,\n",
              " 59676,\n",
              " 1575,\n",
              " 53960,\n",
              " 40892,\n",
              " 45809,\n",
              " 65543,\n",
              " 57220,\n",
              " 31424,\n",
              " 35957,\n",
              " 2176,\n",
              " 65571,\n",
              " 62982,\n",
              " 71992,\n",
              " 31424,\n",
              " 56861,\n",
              " 65543,\n",
              " 21220,\n",
              " 32081,\n",
              " 72012,\n",
              " 1,\n",
              " 62981,\n",
              " 54120,\n",
              " 67368,\n",
              " 66340,\n",
              " 8739,\n",
              " 18862,\n",
              " 65543,\n",
              " 57199,\n",
              " 31424,\n",
              " 31806,\n",
              " 53134,\n",
              " 3689,\n",
              " 29951,\n",
              " 1,\n",
              " 11650,\n",
              " 37968,\n",
              " 32940,\n",
              " 31424,\n",
              " 39081,\n",
              " 29717,\n",
              " 66340,\n",
              " 56190,\n",
              " 46065,\n",
              " 45809,\n",
              " 73598,\n",
              " 64947,\n",
              " 62981,\n",
              " 71776,\n",
              " 66340,\n",
              " 8210,\n",
              " 29951,\n",
              " 31424,\n",
              " 22135,\n",
              " 65523,\n",
              " 39921,\n",
              " 828,\n",
              " 45809,\n",
              " 43774,\n",
              " 1065,\n",
              " 65736,\n",
              " 65523,\n",
              " 8210,\n",
              " 29951,\n",
              " 33665,\n",
              " 22791,\n",
              " 23342,\n",
              " 71943,\n",
              " 1,\n",
              " 49303,\n",
              " 65523,\n",
              " 33768,\n",
              " 33726,\n",
              " 64394]"
            ]
          },
          "metadata": {
            "tags": []
          },
          "execution_count": 11
        }
      ]
    },
    {
      "cell_type": "markdown",
      "metadata": {
        "id": "D1O_xYHKZxT6",
        "colab_type": "text"
      },
      "source": [
        "### Encoding the labels\n",
        "\n",
        "Our labels are \"positive\" or \"negative\". To use these labels in our network, we need to convert them to 0 and 1.\n",
        "\n",
        "> **Exercise:** Convert labels from `positive` and `negative` to 1 and 0, respectively."
      ]
    },
    {
      "cell_type": "code",
      "metadata": {
        "id": "rQUchM06ZxT6",
        "colab_type": "code",
        "colab": {}
      },
      "source": [
        "# Convert labels to 1s and 0s for 'positive' and 'negative'\n",
        "labels = [1 if word == 'positive' else 0 for word in labels.split('\\n')]\n",
        "labels = np.array(labels)"
      ],
      "execution_count": 12,
      "outputs": []
    },
    {
      "cell_type": "markdown",
      "metadata": {
        "id": "hLJa7ksoZxT_",
        "colab_type": "text"
      },
      "source": [
        "If you built `labels` correctly, you should see the next output."
      ]
    },
    {
      "cell_type": "code",
      "metadata": {
        "id": "9ob4oM64ZxUA",
        "colab_type": "code",
        "colab": {
          "base_uri": "https://localhost:8080/",
          "height": 55
        },
        "outputId": "c79d826d-b9e0-45ab-8528-b49c639bee04"
      },
      "source": [
        "from collections import Counter\n",
        "review_lens = Counter([len(x) for x in reviews_ints])\n",
        "print(\"Zero-length reviews: {}\".format(review_lens[0]))\n",
        "print(\"Maximum review length: {}\".format(max(review_lens)))"
      ],
      "execution_count": 13,
      "outputs": [
        {
          "output_type": "stream",
          "text": [
            "Zero-length reviews: 1\n",
            "Maximum review length: 2514\n"
          ],
          "name": "stdout"
        }
      ]
    },
    {
      "cell_type": "markdown",
      "metadata": {
        "id": "iK6OpF31ZxUD",
        "colab_type": "text"
      },
      "source": [
        "Okay, a couple issues here. We seem to have one review with zero length. And, the maximum review length is way too many steps for our RNN. Let's truncate to 200 steps. For reviews shorter than 200, we'll pad with 0s. For reviews longer than 200, we can truncate them to the first 200 characters.\n",
        "\n",
        "> **Exercise:** First, remove the review with zero length from the `reviews_ints` list."
      ]
    },
    {
      "cell_type": "code",
      "metadata": {
        "id": "BANrz9DeZxUF",
        "colab_type": "code",
        "colab": {
          "base_uri": "https://localhost:8080/",
          "height": 55
        },
        "outputId": "c57ac13b-f3b2-4179-84e9-a2721a55a88f"
      },
      "source": [
        "# Filter out that review with 0 length\n",
        "reviews_ints = [each for each in reviews_ints if len(each) > 0]"
      ],
      "execution_count": 14,
      "outputs": [
        {
          "output_type": "stream",
          "text": [
            "Zero-length reviews: 0\n",
            "Maximum review length: 2514\n"
          ],
          "name": "stdout"
        }
      ]
    },
    {
      "cell_type": "markdown",
      "metadata": {
        "id": "SxwuGJWVZxUJ",
        "colab_type": "text"
      },
      "source": [
        "> **Exercise:** Now, create an array `features` that contains the data we'll pass to the network. The data should come from `review_ints`, since we want to feed integers to the network. Each row should be 200 elements long. For reviews shorter than 200 words, left pad with 0s. That is, if the review is `['best', 'movie', 'ever']`, `[117, 18, 128]` as integers, the row will look like `[0, 0, 0, ..., 0, 117, 18, 128]`. For reviews longer than 200, use on the first 200 words as the feature vector.\n",
        "\n",
        "This isn't trivial and there are a bunch of ways to do this. But, if you're going to be building your own deep learning networks, you're going to have to get used to preparing your data.\n",
        "\n"
      ]
    },
    {
      "cell_type": "code",
      "metadata": {
        "id": "e-9Gj1dtZxUK",
        "colab_type": "code",
        "colab": {
          "base_uri": "https://localhost:8080/",
          "height": 36
        },
        "outputId": "0e265bdd-7679-4822-f51d-08d3351c2934"
      },
      "source": [
        "seq_len = 200\n",
        "features=[]\n",
        "for each in reviews_ints:\n",
        "  if len(each)>=seq_len:\n",
        "    features.append(each[:seq_len])\n",
        "  else :\n",
        "    x = [0]*(seq_len-len(each)) + each[:len(each)]\n",
        "    features.append(x)\n",
        "\n",
        "features = np.array(features)\n",
        "features.shape"
      ],
      "execution_count": 22,
      "outputs": [
        {
          "output_type": "execute_result",
          "data": {
            "text/plain": [
              "(25000, 200)"
            ]
          },
          "metadata": {
            "tags": []
          },
          "execution_count": 22
        }
      ]
    },
    {
      "cell_type": "markdown",
      "metadata": {
        "id": "AH2L2RibZxUP",
        "colab_type": "text"
      },
      "source": [
        "If you build features correctly, it should look like that cell output below."
      ]
    },
    {
      "cell_type": "code",
      "metadata": {
        "id": "MG8fKqhNZxUQ",
        "colab_type": "code",
        "colab": {
          "base_uri": "https://localhost:8080/",
          "height": 1000
        },
        "outputId": "585d4fb3-655d-4bf6-b22c-6593251940ba"
      },
      "source": [
        "features[:10,:100]"
      ],
      "execution_count": 23,
      "outputs": [
        {
          "output_type": "execute_result",
          "data": {
            "text/plain": [
              "array([[    0,     0,     0,     0,     0,     0,     0,     0,     0,\n",
              "            0,     0,     0,     0,     0,     0,     0,     0,     0,\n",
              "            0,     0,     0,     0,     0,     0,     0,     0,     0,\n",
              "            0,     0,     0,     0,     0,     0,     0,     0,     0,\n",
              "            0,     0,     0,     0,     0,     0,     0,     0,     0,\n",
              "            0,     0,     0,     0,     0,     0,     0,     0,     0,\n",
              "            0,     0,     0,     0,     0,     0,  8210, 29951, 33665,\n",
              "            1,  9819, 12477, 33768, 52591,  3689, 65543, 56451, 66137,\n",
              "         3397, 60807, 46549, 51107,   181, 57199, 37775, 63328,  3397,\n",
              "        64947, 43774, 73400, 32081, 65543, 64949, 51048, 37169, 40892,\n",
              "        66340,  5656, 65523,  8210, 29951, 56131, 56749, 33665, 43370,\n",
              "        11909],\n",
              "       [    0,     0,     0,     0,     0,     0,     0,     0,     0,\n",
              "            0,     0,     0,     0,     0,     0,     0,     0,     0,\n",
              "            0,     0,     0,     0,     0,     0,     0,     0,     0,\n",
              "            0,     0,     0,     0,     0,     0,     0,     0,     0,\n",
              "            0,     0,     0,     0,     0,     0,     0,     0,     0,\n",
              "            0,     0,     0,     0,     0,     0,     0,     0,     0,\n",
              "            0,     0,     0,     0,     0,     0,     0,     0,     0,\n",
              "            0,     0,     0,     0,     0,     0,     0,     0,     0,\n",
              "            0,     0,     0,     0,     0,     0,     0,     0,     0,\n",
              "            0,     0,     0,     0,     0, 62632, 45809,     1, 39682,\n",
              "        72144, 29037, 69126, 23140, 24476,     1, 49065, 62117, 46592,\n",
              "        72586],\n",
              "       [30468, 46281, 30894,  3397, 26255,  9670, 62132, 29037,  5480,\n",
              "         2085, 33756, 24476, 73400,  8855, 44548,     1, 49379, 66340,\n",
              "        29594, 65827, 46049, 65543, 62781, 65523, 71839, 46054, 13290,\n",
              "        31082, 72144, 17291, 21776, 25211, 27003, 66340, 57199, 72866,\n",
              "        46281, 70983, 24476, 65543, 40519, 43109, 48288, 65736, 45809,\n",
              "        65543, 30467,  3397, 34885,     1, 38584, 10113, 72024, 72933,\n",
              "          181, 65733, 63328,  3397, 52296, 65543, 71324, 46049, 33556,\n",
              "        50713, 35616, 66340, 63295, 65021, 65543, 20231, 32614, 46281,\n",
              "        72933, 31583, 65683, 38198,  5272, 44626, 66340, 20769, 69549,\n",
              "        46049, 65543, 62790,  7681,  7681,  8855, 71943, 31583, 73569,\n",
              "        71839, 26656,     1,  6005, 66340, 38153, 46049, 65543, 62790,\n",
              "        24476],\n",
              "       [ 1288, 62117,  3397,     1,  7768, 44559, 39012, 49383, 33665,\n",
              "        38216, 69549, 72586, 69952, 47210, 63328,  5709, 66340, 54889,\n",
              "         8824, 48799, 62377, 34001, 62390, 72144, 33665, 24288, 65580,\n",
              "            1,  8634, 45809, 70701, 56131, 66340, 30149, 21543, 32081,\n",
              "        50618, 45809, 33768,  5599, 46169, 66340, 65543, 51584,  3397,\n",
              "            1, 43651,  1737, 46049,  6978, 33665, 62377, 15635, 34807,\n",
              "        35224, 52181, 29692, 60856, 65543, 39012, 34340, 64548, 45812,\n",
              "         3397, 49397,  8855, 41701,  1251, 65543, 49383, 33665, 29890,\n",
              "        33894,  8937, 65543, 12023, 49123, 10480, 55282, 24783, 30149,\n",
              "        67982,   361, 56131,  4783, 42797, 40121, 72381, 41638, 47808,\n",
              "        72144, 35987, 65543, 47761, 14511, 46592, 72586, 60000, 25909,\n",
              "        65683],\n",
              "       [    0,     0,     0,     0,     0,     0,     0,     0,     0,\n",
              "            0,     0,     0,     0,     0,     0,     0,     0,     0,\n",
              "            0,     0,     0,     0,     0,     0,     0,     0,     0,\n",
              "            0,     0,     0,     0,     0,     0,     0,     0,     0,\n",
              "            0,     0,     0,     0,     0,     0,     0,     0,     0,\n",
              "            0,     0,     0,     0,     0,  8073, 46756,   528,  8937,\n",
              "        37539,  2385, 71405,  5984, 18984, 30286, 36557, 31424, 29156,\n",
              "        21744, 57783,  2176, 38665, 57048, 32081, 11925, 71344,  3051,\n",
              "        57682, 66340, 45030, 65543, 13826, 46049, 22488, 33665,     1,\n",
              "        11650,  3397, 27109,  3397,  2642, 32081,  6654, 56227, 65543,\n",
              "        64533, 46049, 37113, 33665,  1737, 63610,  1030,  5599,   410,\n",
              "        45809],\n",
              "       [    0,     0,     0,     0,     0,     0,     0,     0,     0,\n",
              "            0,     0,     0,     0,     0,     0,     0,     0,     0,\n",
              "            0,     0,     0,     0,     0,     0,     0,     0,     0,\n",
              "            0,     0,     0,     0,     0,     0,     0,     0,     0,\n",
              "            0,     0,     0,     0,     0,     0,     0,     0,     0,\n",
              "            0,     0,     0,     0,     0,     0,     0,     0,     0,\n",
              "        65773, 23548, 36517, 60828, 31424, 14048, 64394, 51887, 43774,\n",
              "        23666, 46049,  3689, 23768, 10635, 46049, 65543, 47667, 45809,\n",
              "        65543, 37178,   568, 65773, 32520, 67051, 66340, 36514, 45809,\n",
              "        10869, 71992, 58598, 58510, 65543, 57436, 72586, 29692, 37178,\n",
              "        39682, 21724, 65543, 55490, 57048,  9236,   519,  3397,  5599,\n",
              "        41376],\n",
              "       [    0,     0,     0,     0,     0,     0,     0,     0,     0,\n",
              "            0,     0,     0,     0,     0,     0,     0,     0,     0,\n",
              "            0,     0,     0,     0,     0,     0,     0,     0,     0,\n",
              "            0,     0,     0,     0,     0,     0,     0,     0,     0,\n",
              "            0,     0,     0,     0,     0,     0,     0,     0,     0,\n",
              "            0,     0,     0,     0,     0,     0,     0,     0,     0,\n",
              "            0,     0,     0,     0,     0,     0,     0,     0,     0,\n",
              "            0,     0,     0,     0,     0,     0,     0,     0,     0,\n",
              "            0,     0,     0,     0, 65773, 33665, 19767, 65543, 43109,\n",
              "        68593, 23548, 32786, 65543,  8242,  9408, 63802, 33810, 24003,\n",
              "        33768, 18431, 45177, 26653,     1, 52990, 70555, 45809, 30468,\n",
              "        69054],\n",
              "       [    0,     0,     0,     0,     0,     0,     0,     0,     0,\n",
              "            0,     0,     0,     0,     0,     0,     0,     0,     0,\n",
              "            0,     0,     0,     0,     0,     0,     0,     0,     0,\n",
              "            0,     0,     0,     0,     0,     0,     0,     0,     0,\n",
              "            0,     0,     0,     0,     0,     0,     0,     0,     0,\n",
              "            0,     0, 60976, 21773, 31424, 36007, 65773, 33665, 63764,\n",
              "        66340,  5272,  2085,  3304, 23548,  8855, 72985, 65683, 59021,\n",
              "        29156, 28696, 46592, 28216,  3689, 65543, 57442, 60569, 48288,\n",
              "        14046,  6873, 65571,  7740, 46592,  2176, 45177, 71476,  1778,\n",
              "        65543, 57043, 16814,  2176, 48896, 17572, 71425, 21922, 65773,\n",
              "        62632, 33665, 66541, 47191, 66340, 71476, 65543,   212, 45809,\n",
              "            1],\n",
              "       [    0,     0,     0,     0,     0,     0,     0,     0,     0,\n",
              "            0,     0,     0,     0,     0,     0,     0,     0,     0,\n",
              "            0,     0,     0,     0,     0,     0,     0,     0,     0,\n",
              "            0,     0,     0,     0,     0,     0,     0,     0,     0,\n",
              "            0,     0,     0,     0,     0,     0,     0,     0,     0,\n",
              "            0,     0,     0,     0,     0,     0,     0,     0,     0,\n",
              "            0,     0,     0,     0,     0,     0,     0,     0,     0,\n",
              "            0,     0,     0,     0,     0,     0,     0,     0,     0,\n",
              "            0,     0,     0,     0,     0,     0,     0, 65773, 33665,\n",
              "        45177, 65543, 68025, 41140,  8242, 23548, 33768, 71425, 43370,\n",
              "        37545, 59928, 65500, 43109, 45809, 30149, 43290,  2176,   578,\n",
              "        28404],\n",
              "       [71992, 31424, 71425, 38141, 43774, 47578, 66544, 40892,  1697,\n",
              "        66340, 65543, 65547, 66340, 57754, 33178, 33768, 71425, 46065,\n",
              "        45809, 39921, 43290, 31424, 71483, 72586, 43774, 47578,  8855,\n",
              "        65773, 71425, 65543, 46095, 46065, 71596, 71215, 46592, 45809,\n",
              "        59532, 65596, 31424, 28404, 44548, 57783, 33178, 69455, 34885,\n",
              "        53168,  2176, 31424, 14046, 29156, 38154, 46592, 65543, 54471,\n",
              "        45809, 43774, 37775, 72610, 33768, 71943,     1, 50753, 49924,\n",
              "         2176, 47193,  7467, 49032, 45809, 56131, 72443,  2176, 10825,\n",
              "        67419, 72807,  1598, 33665, 46065, 45809, 43774, 23010, 17585,\n",
              "         8855, 33178, 33665,  8937, 22791, 65543, 72952, 49032, 45809,\n",
              "        14332, 45809, 30149,  9611, 32081, 65543, 69110, 63077, 45809,\n",
              "        32692]])"
            ]
          },
          "metadata": {
            "tags": []
          },
          "execution_count": 23
        }
      ]
    },
    {
      "cell_type": "markdown",
      "metadata": {
        "id": "f_JuCpQ8ZxUT",
        "colab_type": "text"
      },
      "source": [
        "## Training, Validation, Test\n",
        "\n"
      ]
    },
    {
      "cell_type": "markdown",
      "metadata": {
        "id": "-8o0PTXcZxUT",
        "colab_type": "text"
      },
      "source": [
        "With our data in nice shape, we'll split it into training, validation, and test sets.\n",
        "\n",
        "> **Exercise:** Create the training, validation, and test sets here. You'll need to create sets for the features and the labels, `train_x` and `train_y` for example. Define a split fraction, `split_frac` as the fraction of data to keep in the training set. Usually this is set to 0.8 or 0.9. The rest of the data will be split in half to create the validation and testing data."
      ]
    },
    {
      "cell_type": "code",
      "metadata": {
        "id": "Y4HqBbaWZxUU",
        "colab_type": "code",
        "colab": {
          "base_uri": "https://localhost:8080/",
          "height": 93
        },
        "outputId": "2506b06f-4a59-4568-a9a5-205218a63274"
      },
      "source": [
        "split_frac = 0.8\n",
        "training_data_len = int(split_frac*len(features))\n",
        "train_x, val_x = features[: training_data_len], features[training_data_len:]\n",
        "train_y, val_y = labels[: training_data_len], labels[training_data_len: ]\n",
        "\n",
        "validation_split_frac = 0.5\n",
        "validation_data_len = int(validation_split_frac*len(val_x))\n",
        "val_x, test_x = val_x[: validation_data_len], val_x[validation_data_len: ]\n",
        "val_y, test_y = val_y[: validation_data_len], val_y[validation_data_len: ]\n",
        "\n",
        "print(\"\\t\\t\\tFeature Shapes:\")\n",
        "print(\"Train set: \\t\\t{}\".format(train_x.shape), \n",
        "      \"\\nValidation set: \\t{}\".format(val_x.shape),\n",
        "      \"\\nTest set: \\t\\t{}\".format(test_x.shape))"
      ],
      "execution_count": 24,
      "outputs": [
        {
          "output_type": "stream",
          "text": [
            "\t\t\tFeature Shapes:\n",
            "Train set: \t\t(20000, 200) \n",
            "Validation set: \t(2500, 200) \n",
            "Test set: \t\t(2500, 200)\n"
          ],
          "name": "stdout"
        }
      ]
    },
    {
      "cell_type": "markdown",
      "metadata": {
        "id": "1sdlDkJxZxUY",
        "colab_type": "text"
      },
      "source": [
        "With train, validation, and text fractions of 0.8, 0.1, 0.1, the final shapes should look like:\n",
        "```\n",
        "                    Feature Shapes:\n",
        "Train set: \t\t (20000, 200) \n",
        "Validation set: \t(2500, 200) \n",
        "Test set: \t\t  (2500, 200)\n",
        "```"
      ]
    },
    {
      "cell_type": "markdown",
      "metadata": {
        "id": "sj6OjZMmZxUa",
        "colab_type": "text"
      },
      "source": [
        "## Build the graph\n",
        "\n",
        "Here, we'll build the graph. First up, defining the hyperparameters.\n",
        "\n",
        "* `lstm_size`: Number of units in the hidden layers in the LSTM cells. Usually larger is better performance wise. Common values are 128, 256, 512, etc.\n",
        "* `lstm_layers`: Number of LSTM layers in the network. I'd start with 1, then add more if I'm underfitting.\n",
        "* `batch_size`: The number of reviews to feed the network in one training pass. Typically this should be set as high as you can go without running out of memory.\n",
        "* `learning_rate`: Learning rate"
      ]
    },
    {
      "cell_type": "code",
      "metadata": {
        "id": "r9az5cbeZxUa",
        "colab_type": "code",
        "colab": {}
      },
      "source": [
        "lstm_size = 256\n",
        "lstm_layers = 1\n",
        "batch_size = 500\n",
        "learning_rate = 0.001"
      ],
      "execution_count": 25,
      "outputs": []
    },
    {
      "cell_type": "markdown",
      "metadata": {
        "id": "Y06y0jvMZxUd",
        "colab_type": "text"
      },
      "source": [
        "For the network itself, we'll be passing in our 200 element long review vectors. Each batch will be `batch_size` vectors. We'll also be using dropout on the LSTM layer, so we'll make a placeholder for the keep probability."
      ]
    },
    {
      "cell_type": "markdown",
      "metadata": {
        "id": "g8928MG7ZxUe",
        "colab_type": "text"
      },
      "source": [
        "> **Exercise:** Create the `inputs_`, `labels_`, and drop out `keep_prob` placeholders using `tf.placeholder`. `labels_` needs to be two-dimensional to work with some functions later.  Since `keep_prob` is a scalar (a 0-dimensional tensor), you shouldn't provide a size to `tf.placeholder`."
      ]
    },
    {
      "cell_type": "code",
      "metadata": {
        "id": "cV1Oe960ZxUe",
        "colab_type": "code",
        "colab": {}
      },
      "source": [
        "n_words = len(vocab_to_int) + 1 # Adding 1 because we use 0's for padding, dictionary started at 1\n",
        "\n",
        "# Create the graph object\n",
        "graph = tf.Graph()\n",
        "# Add nodes to the graph\n",
        "with graph.as_default():\n",
        "    inputs_ = tf.placeholder(tf.int32, [None, None], name = 'inputs')\n",
        "    labels_ = tf.placeholder(tf.int32, [None, None], name = 'labels')\n",
        "    keep_prob = tf.placeholder(tf.float32, name = 'keep_prob')"
      ],
      "execution_count": 26,
      "outputs": []
    },
    {
      "cell_type": "markdown",
      "metadata": {
        "id": "b9xqVBLIZxUi",
        "colab_type": "text"
      },
      "source": [
        "### Embedding\n",
        "\n",
        "Now we'll add an embedding layer. We need to do this because there are 74000 words in our vocabulary. It is massively inefficient to one-hot encode our classes here. You should remember dealing with this problem from the word2vec lesson. Instead of one-hot encoding, we can have an embedding layer and use that layer as a lookup table. You could train an embedding layer using word2vec, then load it here. But, it's fine to just make a new layer and let the network learn the weights.\n",
        "\n",
        "> **Exercise:** Create the embedding lookup matrix as a `tf.Variable`. Use that embedding matrix to get the embedded vectors to pass to the LSTM cell with [`tf.nn.embedding_lookup`](https://www.tensorflow.org/api_docs/python/tf/nn/embedding_lookup). This function takes the embedding matrix and an input tensor, such as the review vectors. Then, it'll return another tensor with the embedded vectors. So, if the embedding layer has 200 units, the function will return a tensor with size [batch_size, 200].\n",
        "\n"
      ]
    },
    {
      "cell_type": "code",
      "metadata": {
        "id": "Q87ofMIFZxUj",
        "colab_type": "code",
        "colab": {}
      },
      "source": [
        "# Size of the embedding vectors (number of units in the embedding layer)\n",
        "embed_size = 300 \n",
        "\n",
        "with graph.as_default():\n",
        "    embedding = tf.Variable(tf.random_uniform((n_words, embed_size), -1, 1), name = 'embedding')\n",
        "    embed = tf.nn.embedding_lookup(embedding, inputs_ , name = 'embed')"
      ],
      "execution_count": 27,
      "outputs": []
    },
    {
      "cell_type": "markdown",
      "metadata": {
        "id": "O3xS4rQBZxUm",
        "colab_type": "text"
      },
      "source": [
        "### LSTM cell\n",
        "\n",
        "<img src=\"assets/network_diagram.png\" width=400px>\n",
        "\n",
        "Next, we'll create our LSTM cells to use in the recurrent network ([TensorFlow documentation](https://www.tensorflow.org/api_docs/python/tf/contrib/rnn)). Here we are just defining what the cells look like. This isn't actually building the graph, just defining the type of cells we want in our graph.\n",
        "\n",
        "To create a basic LSTM cell for the graph, you'll want to use `tf.contrib.rnn.BasicLSTMCell`. Looking at the function documentation:\n",
        "\n",
        "```\n",
        "tf.contrib.rnn.BasicLSTMCell(num_units, forget_bias=1.0, input_size=None, state_is_tuple=True, activation=<function tanh at 0x109f1ef28>)\n",
        "```\n",
        "\n",
        "you can see it takes a parameter called `num_units`, the number of units in the cell, called `lstm_size` in this code. So then, you can write something like \n",
        "\n",
        "```\n",
        "lstm = tf.contrib.rnn.BasicLSTMCell(num_units)\n",
        "```\n",
        "\n",
        "to create an LSTM cell with `num_units`. Next, you can add dropout to the cell with `tf.contrib.rnn.DropoutWrapper`. This just wraps the cell in another cell, but with dropout added to the inputs and/or outputs. It's a really convenient way to make your network better with almost no effort! So you'd do something like\n",
        "\n",
        "```\n",
        "drop = tf.contrib.rnn.DropoutWrapper(cell, output_keep_prob=keep_prob)\n",
        "```\n",
        "\n",
        "Most of the time, your network will have better performance with more layers. That's sort of the magic of deep learning, adding more layers allows the network to learn really complex relationships. Again, there is a simple way to create multiple layers of LSTM cells with `tf.contrib.rnn.MultiRNNCell`:\n",
        "\n",
        "```\n",
        "cell = tf.contrib.rnn.MultiRNNCell([drop] * lstm_layers)\n",
        "```\n",
        "\n",
        "Here, `[drop] * lstm_layers` creates a list of cells (`drop`) that is `lstm_layers` long. The `MultiRNNCell` wrapper builds this into multiple layers of RNN cells, one for each cell in the list.\n",
        "\n",
        "So the final cell you're using in the network is actually multiple (or just one) LSTM cells with dropout. But it all works the same from an architectural viewpoint, just a more complicated graph in the cell.\n",
        "\n",
        "> **Exercise:** Below, use `tf.contrib.rnn.BasicLSTMCell` to create an LSTM cell. Then, add drop out to it with `tf.contrib.rnn.DropoutWrapper`. Finally, create multiple LSTM layers with `tf.contrib.rnn.MultiRNNCell`.\n",
        "\n",
        "Here is [a tutorial on building RNNs](https://www.tensorflow.org/tutorials/recurrent) that will help you out.\n"
      ]
    },
    {
      "cell_type": "code",
      "metadata": {
        "id": "K8ej_fSvZxUm",
        "colab_type": "code",
        "colab": {
          "base_uri": "https://localhost:8080/",
          "height": 304
        },
        "outputId": "d7be9c30-22a7-4da5-957a-0ef981c6cf0b"
      },
      "source": [
        "with graph.as_default():\n",
        "    # Your basic LSTM cell\n",
        "    lstm = tf.contrib.rnn.BasicLSTMCell(lstm_size)\n",
        "    \n",
        "    # Add dropout to the cell\n",
        "    drop =  tf.contrib.rnn.DropoutWrapper(lstm, output_keep_prob=keep_prob)\n",
        "    \n",
        "    \n",
        "    # Stack up multiple LSTM layers, for deep learning\n",
        "    cell = tf.contrib.rnn.MultiRNNCell([drop] * lstm_layers)\n",
        "    \n",
        "    # Getting an initial state of all zeros\n",
        "    initial_state = cell.zero_state(batch_size, tf.float32)"
      ],
      "execution_count": 28,
      "outputs": [
        {
          "output_type": "stream",
          "text": [
            "WARNING:tensorflow:\n",
            "The TensorFlow contrib module will not be included in TensorFlow 2.0.\n",
            "For more information, please see:\n",
            "  * https://github.com/tensorflow/community/blob/master/rfcs/20180907-contrib-sunset.md\n",
            "  * https://github.com/tensorflow/addons\n",
            "  * https://github.com/tensorflow/io (for I/O related ops)\n",
            "If you depend on functionality not listed there, please file an issue.\n",
            "\n",
            "WARNING:tensorflow:From <ipython-input-28-7ab6cbc0b209>:3: BasicLSTMCell.__init__ (from tensorflow.python.ops.rnn_cell_impl) is deprecated and will be removed in a future version.\n",
            "Instructions for updating:\n",
            "This class is equivalent as tf.keras.layers.LSTMCell, and will be replaced by that in Tensorflow 2.0.\n",
            "WARNING:tensorflow:From <ipython-input-28-7ab6cbc0b209>:10: MultiRNNCell.__init__ (from tensorflow.python.ops.rnn_cell_impl) is deprecated and will be removed in a future version.\n",
            "Instructions for updating:\n",
            "This class is equivalent as tf.keras.layers.StackedRNNCells, and will be replaced by that in Tensorflow 2.0.\n"
          ],
          "name": "stdout"
        }
      ]
    },
    {
      "cell_type": "markdown",
      "metadata": {
        "id": "nXSLrQAvZxUq",
        "colab_type": "text"
      },
      "source": [
        "### RNN forward pass\n",
        "\n",
        "<img src=\"assets/network_diagram.png\" width=400px>\n",
        "\n",
        "Now we need to actually run the data through the RNN nodes. You can use [`tf.nn.dynamic_rnn`](https://www.tensorflow.org/api_docs/python/tf/nn/dynamic_rnn) to do this. You'd pass in the RNN cell you created (our multiple layered LSTM `cell` for instance), and the inputs to the network.\n",
        "\n",
        "```\n",
        "outputs, final_state = tf.nn.dynamic_rnn(cell, inputs, initial_state=initial_state)\n",
        "```\n",
        "\n",
        "Above I created an initial state, `initial_state`, to pass to the RNN. This is the cell state that is passed between the hidden layers in successive time steps. `tf.nn.dynamic_rnn` takes care of most of the work for us. We pass in our cell and the input to the cell, then it does the unrolling and everything else for us. It returns outputs for each time step and the final_state of the hidden layer.\n",
        "\n",
        "> **Exercise:** Use `tf.nn.dynamic_rnn` to add the forward pass through the RNN. Remember that we're actually passing in vectors from the embedding layer, `embed`.\n",
        "\n"
      ]
    },
    {
      "cell_type": "code",
      "metadata": {
        "id": "QccB8Pb1ZxUr",
        "colab_type": "code",
        "colab": {
          "base_uri": "https://localhost:8080/",
          "height": 209
        },
        "outputId": "38fcbd28-21e9-4e1a-cb79-ad2c21449add"
      },
      "source": [
        "with graph.as_default():\n",
        "    outputs, final_state = tf.nn.dynamic_rnn(cell, embed, initial_state=initial_state)"
      ],
      "execution_count": 29,
      "outputs": [
        {
          "output_type": "stream",
          "text": [
            "WARNING:tensorflow:From <ipython-input-29-849734d2bee4>:2: dynamic_rnn (from tensorflow.python.ops.rnn) is deprecated and will be removed in a future version.\n",
            "Instructions for updating:\n",
            "Please use `keras.layers.RNN(cell)`, which is equivalent to this API\n",
            "WARNING:tensorflow:From /tensorflow-1.15.2/python3.6/tensorflow_core/python/ops/rnn_cell_impl.py:735: Layer.add_variable (from tensorflow.python.keras.engine.base_layer) is deprecated and will be removed in a future version.\n",
            "Instructions for updating:\n",
            "Please use `layer.add_weight` method instead.\n",
            "WARNING:tensorflow:From /tensorflow-1.15.2/python3.6/tensorflow_core/python/ops/rnn_cell_impl.py:739: calling Zeros.__init__ (from tensorflow.python.ops.init_ops) with dtype is deprecated and will be removed in a future version.\n",
            "Instructions for updating:\n",
            "Call initializer instance with the dtype argument instead of passing it to the constructor\n"
          ],
          "name": "stdout"
        }
      ]
    },
    {
      "cell_type": "markdown",
      "metadata": {
        "id": "Ypq6dOLGZxUt",
        "colab_type": "text"
      },
      "source": [
        "### Output\n",
        "\n",
        "We only care about the final output, we'll be using that as our sentiment prediction. So we need to grab the last output with `outputs[:, -1]`, the calculate the cost from that and `labels_`."
      ]
    },
    {
      "cell_type": "code",
      "metadata": {
        "id": "16-UAlv9ZxUu",
        "colab_type": "code",
        "colab": {
          "base_uri": "https://localhost:8080/",
          "height": 152
        },
        "outputId": "31aa4c47-fe65-4dbf-d35b-babfaeb4dbea"
      },
      "source": [
        "with graph.as_default():\n",
        "    predictions = tf.contrib.layers.fully_connected(outputs[:, -1], 1, activation_fn=tf.sigmoid)\n",
        "    cost = tf.losses.mean_squared_error(labels_, predictions)\n",
        "    \n",
        "    optimizer = tf.train.AdamOptimizer(learning_rate).minimize(cost)"
      ],
      "execution_count": 30,
      "outputs": [
        {
          "output_type": "stream",
          "text": [
            "WARNING:tensorflow:From /tensorflow-1.15.2/python3.6/tensorflow_core/contrib/layers/python/layers/layers.py:1866: Layer.apply (from tensorflow.python.keras.engine.base_layer) is deprecated and will be removed in a future version.\n",
            "Instructions for updating:\n",
            "Please use `layer.__call__` method instead.\n",
            "WARNING:tensorflow:From /tensorflow-1.15.2/python3.6/tensorflow_core/python/ops/losses/losses_impl.py:121: where (from tensorflow.python.ops.array_ops) is deprecated and will be removed in a future version.\n",
            "Instructions for updating:\n",
            "Use tf.where in 2.0, which has the same broadcast rule as np.where\n"
          ],
          "name": "stdout"
        }
      ]
    },
    {
      "cell_type": "markdown",
      "metadata": {
        "id": "7ts-hRgbZxUx",
        "colab_type": "text"
      },
      "source": [
        "### Validation accuracy\n",
        "\n",
        "Here we can add a few nodes to calculate the accuracy which we'll use in the validation pass."
      ]
    },
    {
      "cell_type": "code",
      "metadata": {
        "id": "FpmmojupZxUy",
        "colab_type": "code",
        "colab": {}
      },
      "source": [
        "with graph.as_default():\n",
        "    correct_pred = tf.equal(tf.cast(tf.round(predictions), tf.int32), labels_)\n",
        "    accuracy = tf.reduce_mean(tf.cast(correct_pred, tf.float32))"
      ],
      "execution_count": 31,
      "outputs": []
    },
    {
      "cell_type": "markdown",
      "metadata": {
        "id": "d-MoMrKCZxU1",
        "colab_type": "text"
      },
      "source": [
        "### Batching\n",
        "\n",
        "This is a simple function for returning batches from our data. First it removes data such that we only have full batches. Then it iterates through the `x` and `y` arrays and returns slices out of those arrays with size `[batch_size]`."
      ]
    },
    {
      "cell_type": "code",
      "metadata": {
        "id": "iLbrngJtZxU1",
        "colab_type": "code",
        "colab": {}
      },
      "source": [
        "def get_batches(x, y, batch_size=100):\n",
        "    \n",
        "    n_batches = len(x)//batch_size\n",
        "    x, y = x[:n_batches*batch_size], y[:n_batches*batch_size]\n",
        "    for ii in range(0, len(x), batch_size):\n",
        "        yield x[ii:ii+batch_size], y[ii:ii+batch_size]"
      ],
      "execution_count": 32,
      "outputs": []
    },
    {
      "cell_type": "markdown",
      "metadata": {
        "id": "lmYHouQ2ZxU4",
        "colab_type": "text"
      },
      "source": [
        "## Training\n",
        "\n",
        "Below is the typical training code. If you want to do this yourself, feel free to delete all this code and implement it yourself. Before you run this, make sure the `checkpoints` directory exists."
      ]
    },
    {
      "cell_type": "code",
      "metadata": {
        "id": "n2Li-xmZemvK",
        "colab_type": "code",
        "colab": {}
      },
      "source": [
        "!mkdir checkpoints"
      ],
      "execution_count": 34,
      "outputs": []
    },
    {
      "cell_type": "code",
      "metadata": {
        "id": "0njspBivZxU7",
        "colab_type": "code",
        "colab": {
          "base_uri": "https://localhost:8080/",
          "height": 1000
        },
        "outputId": "9e268aab-3e25-476b-bce7-cf76da1084fd"
      },
      "source": [
        "epochs = 10\n",
        "\n",
        "with graph.as_default():\n",
        "    saver = tf.train.Saver()\n",
        "\n",
        "with tf.Session(graph=graph) as sess:\n",
        "    sess.run(tf.global_variables_initializer())\n",
        "    iteration = 1\n",
        "    for e in range(epochs):\n",
        "        state = sess.run(initial_state)\n",
        "        \n",
        "        for ii, (x, y) in enumerate(get_batches(train_x, train_y, batch_size), 1):\n",
        "            feed = {inputs_: x,\n",
        "                    labels_: y[:, None],\n",
        "                    keep_prob: 0.5,\n",
        "                    initial_state: state}\n",
        "            loss, state, _ = sess.run([cost, final_state, optimizer], feed_dict=feed)\n",
        "            \n",
        "            if iteration%5==0:\n",
        "                print(\"Epoch: {}/{}\".format(e, epochs),\n",
        "                      \"Iteration: {}\".format(iteration),\n",
        "                      \"Train loss: {:.3f}\".format(loss))\n",
        "\n",
        "            if iteration%25==0:\n",
        "                val_acc = []\n",
        "                val_state = sess.run(cell.zero_state(batch_size, tf.float32))\n",
        "                for x, y in get_batches(val_x, val_y, batch_size):\n",
        "                    feed = {inputs_: x,\n",
        "                            labels_: y[:, None],\n",
        "                            keep_prob: 1,\n",
        "                            initial_state: val_state}\n",
        "                    batch_acc, val_state = sess.run([accuracy, final_state], feed_dict=feed)\n",
        "                    val_acc.append(batch_acc)\n",
        "                print(\"Val acc: {:.3f}\".format(np.mean(val_acc)))\n",
        "            iteration +=1\n",
        "    saver.save(sess, \"checkpoints/sentiment.ckpt\")"
      ],
      "execution_count": 35,
      "outputs": [
        {
          "output_type": "stream",
          "text": [
            "Epoch: 0/10 Iteration: 5 Train loss: 0.242\n",
            "Epoch: 0/10 Iteration: 10 Train loss: 0.244\n",
            "Epoch: 0/10 Iteration: 15 Train loss: 0.219\n",
            "Epoch: 0/10 Iteration: 20 Train loss: 0.221\n",
            "Epoch: 0/10 Iteration: 25 Train loss: 0.222\n",
            "Val acc: 0.620\n",
            "Epoch: 0/10 Iteration: 30 Train loss: 0.215\n",
            "Epoch: 0/10 Iteration: 35 Train loss: 0.188\n",
            "Epoch: 0/10 Iteration: 40 Train loss: 0.246\n",
            "Epoch: 1/10 Iteration: 45 Train loss: 0.188\n",
            "Epoch: 1/10 Iteration: 50 Train loss: 0.207\n",
            "Val acc: 0.663\n",
            "Epoch: 1/10 Iteration: 55 Train loss: 0.190\n",
            "Epoch: 1/10 Iteration: 60 Train loss: 0.149\n",
            "Epoch: 1/10 Iteration: 65 Train loss: 0.154\n",
            "Epoch: 1/10 Iteration: 70 Train loss: 0.168\n",
            "Epoch: 1/10 Iteration: 75 Train loss: 0.122\n",
            "Val acc: 0.760\n",
            "Epoch: 1/10 Iteration: 80 Train loss: 0.153\n",
            "Epoch: 2/10 Iteration: 85 Train loss: 0.129\n",
            "Epoch: 2/10 Iteration: 90 Train loss: 0.172\n",
            "Epoch: 2/10 Iteration: 95 Train loss: 0.115\n",
            "Epoch: 2/10 Iteration: 100 Train loss: 0.123\n",
            "Val acc: 0.776\n",
            "Epoch: 2/10 Iteration: 105 Train loss: 0.156\n",
            "Epoch: 2/10 Iteration: 110 Train loss: 0.127\n",
            "Epoch: 2/10 Iteration: 115 Train loss: 0.085\n",
            "Epoch: 2/10 Iteration: 120 Train loss: 0.087\n",
            "Epoch: 3/10 Iteration: 125 Train loss: 0.097\n",
            "Val acc: 0.826\n",
            "Epoch: 3/10 Iteration: 130 Train loss: 0.109\n",
            "Epoch: 3/10 Iteration: 135 Train loss: 0.083\n",
            "Epoch: 3/10 Iteration: 140 Train loss: 0.085\n",
            "Epoch: 3/10 Iteration: 145 Train loss: 0.080\n",
            "Epoch: 3/10 Iteration: 150 Train loss: 0.151\n",
            "Val acc: 0.748\n",
            "Epoch: 3/10 Iteration: 155 Train loss: 0.229\n",
            "Epoch: 3/10 Iteration: 160 Train loss: 0.310\n",
            "Epoch: 4/10 Iteration: 165 Train loss: 0.226\n",
            "Epoch: 4/10 Iteration: 170 Train loss: 0.199\n",
            "Epoch: 4/10 Iteration: 175 Train loss: 0.163\n",
            "Val acc: 0.698\n",
            "Epoch: 4/10 Iteration: 180 Train loss: 0.137\n",
            "Epoch: 4/10 Iteration: 185 Train loss: 0.120\n",
            "Epoch: 4/10 Iteration: 190 Train loss: 0.162\n",
            "Epoch: 4/10 Iteration: 195 Train loss: 0.256\n",
            "Epoch: 4/10 Iteration: 200 Train loss: 0.140\n",
            "Val acc: 0.726\n",
            "Epoch: 5/10 Iteration: 205 Train loss: 0.115\n",
            "Epoch: 5/10 Iteration: 210 Train loss: 0.134\n",
            "Epoch: 5/10 Iteration: 215 Train loss: 0.098\n",
            "Epoch: 5/10 Iteration: 220 Train loss: 0.112\n",
            "Epoch: 5/10 Iteration: 225 Train loss: 0.094\n",
            "Val acc: 0.710\n",
            "Epoch: 5/10 Iteration: 230 Train loss: 0.098\n",
            "Epoch: 5/10 Iteration: 235 Train loss: 0.111\n",
            "Epoch: 5/10 Iteration: 240 Train loss: 0.154\n",
            "Epoch: 6/10 Iteration: 245 Train loss: 0.147\n",
            "Epoch: 6/10 Iteration: 250 Train loss: 0.391\n",
            "Val acc: 0.564\n",
            "Epoch: 6/10 Iteration: 255 Train loss: 0.184\n",
            "Epoch: 6/10 Iteration: 260 Train loss: 0.181\n",
            "Epoch: 6/10 Iteration: 265 Train loss: 0.169\n",
            "Epoch: 6/10 Iteration: 270 Train loss: 0.136\n",
            "Epoch: 6/10 Iteration: 275 Train loss: 0.116\n",
            "Val acc: 0.797\n",
            "Epoch: 6/10 Iteration: 280 Train loss: 0.104\n",
            "Epoch: 7/10 Iteration: 285 Train loss: 0.112\n",
            "Epoch: 7/10 Iteration: 290 Train loss: 0.132\n",
            "Epoch: 7/10 Iteration: 295 Train loss: 0.079\n",
            "Epoch: 7/10 Iteration: 300 Train loss: 0.081\n",
            "Val acc: 0.794\n",
            "Epoch: 7/10 Iteration: 305 Train loss: 0.060\n",
            "Epoch: 7/10 Iteration: 310 Train loss: 0.187\n",
            "Epoch: 7/10 Iteration: 315 Train loss: 0.119\n",
            "Epoch: 7/10 Iteration: 320 Train loss: 0.114\n",
            "Epoch: 8/10 Iteration: 325 Train loss: 0.091\n",
            "Val acc: 0.789\n",
            "Epoch: 8/10 Iteration: 330 Train loss: 0.092\n",
            "Epoch: 8/10 Iteration: 335 Train loss: 0.072\n",
            "Epoch: 8/10 Iteration: 340 Train loss: 0.067\n",
            "Epoch: 8/10 Iteration: 345 Train loss: 0.071\n",
            "Epoch: 8/10 Iteration: 350 Train loss: 0.088\n",
            "Val acc: 0.798\n",
            "Epoch: 8/10 Iteration: 355 Train loss: 0.060\n",
            "Epoch: 8/10 Iteration: 360 Train loss: 0.104\n",
            "Epoch: 9/10 Iteration: 365 Train loss: 0.095\n",
            "Epoch: 9/10 Iteration: 370 Train loss: 0.143\n",
            "Epoch: 9/10 Iteration: 375 Train loss: 0.146\n",
            "Val acc: 0.702\n",
            "Epoch: 9/10 Iteration: 380 Train loss: 0.126\n",
            "Epoch: 9/10 Iteration: 385 Train loss: 0.094\n",
            "Epoch: 9/10 Iteration: 390 Train loss: 0.072\n",
            "Epoch: 9/10 Iteration: 395 Train loss: 0.066\n",
            "Epoch: 9/10 Iteration: 400 Train loss: 0.084\n",
            "Val acc: 0.821\n"
          ],
          "name": "stdout"
        }
      ]
    },
    {
      "cell_type": "markdown",
      "metadata": {
        "id": "clmbdDjWZxU_",
        "colab_type": "text"
      },
      "source": [
        "## Testing"
      ]
    },
    {
      "cell_type": "code",
      "metadata": {
        "id": "aSikCdl4ZxU_",
        "colab_type": "code",
        "colab": {
          "base_uri": "https://localhost:8080/",
          "height": 55
        },
        "outputId": "fb0f722e-2e48-46b3-fa0a-65857e30a2a6"
      },
      "source": [
        "test_acc = []\n",
        "with tf.Session(graph=graph) as sess:\n",
        "    saver.restore(sess, tf.train.latest_checkpoint('checkpoints'))\n",
        "    test_state = sess.run(cell.zero_state(batch_size, tf.float32))\n",
        "    for ii, (x, y) in enumerate(get_batches(test_x, test_y, batch_size), 1):\n",
        "        feed = {inputs_: x,\n",
        "                labels_: y[:, None],\n",
        "                keep_prob: 1,\n",
        "                initial_state: test_state}\n",
        "        batch_acc, test_state = sess.run([accuracy, final_state], feed_dict=feed)\n",
        "        test_acc.append(batch_acc)\n",
        "    print(\"Test accuracy: {:.3f}\".format(np.mean(test_acc)))"
      ],
      "execution_count": 36,
      "outputs": [
        {
          "output_type": "stream",
          "text": [
            "INFO:tensorflow:Restoring parameters from checkpoints/sentiment.ckpt\n",
            "Test accuracy: 0.803\n"
          ],
          "name": "stdout"
        }
      ]
    },
    {
      "cell_type": "code",
      "metadata": {
        "id": "VP2Wo6ewfqok",
        "colab_type": "code",
        "colab": {}
      },
      "source": [
        ""
      ],
      "execution_count": null,
      "outputs": []
    }
  ]
}