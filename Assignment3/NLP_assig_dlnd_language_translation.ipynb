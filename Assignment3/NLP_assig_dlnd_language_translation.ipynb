{
  "nbformat": 4,
  "nbformat_minor": 0,
  "metadata": {
    "anaconda-cloud": {},
    "kernelspec": {
      "display_name": "Python 3",
      "language": "python",
      "name": "python3"
    },
    "language_info": {
      "codemirror_mode": {
        "name": "ipython",
        "version": 3
      },
      "file_extension": ".py",
      "mimetype": "text/x-python",
      "name": "python",
      "nbconvert_exporter": "python",
      "pygments_lexer": "ipython3",
      "version": "3.7.5"
    },
    "colab": {
      "name": "NLP_assig_dlnd_language_translation.ipynb",
      "provenance": [],
      "collapsed_sections": [],
      "toc_visible": true
    },
    "accelerator": "GPU"
  },
  "cells": [
    {
      "cell_type": "markdown",
      "metadata": {
        "collapsed": true,
        "id": "Wo0SGM2qi_fv",
        "colab_type": "text"
      },
      "source": [
        "# Language Translation\n",
        "In this project, you’re going to take a peek into the realm of neural network machine translation.  You’ll be training a sequence to sequence model on a dataset of English and French sentences that can translate new sentences from English to French.\n",
        "## Get the Data\n",
        "Since translating the whole language of English to French will take lots of time to train, we have provided you with a small portion of the English corpus."
      ]
    },
    {
      "cell_type": "code",
      "metadata": {
        "id": "uPuQ9k5RjN0w",
        "colab_type": "code",
        "colab": {
          "base_uri": "https://localhost:8080/",
          "height": 399
        },
        "outputId": "6ab30817-b727-4fcc-d45d-7ac6307f08a1"
      },
      "source": [
        "!nvidia-smi"
      ],
      "execution_count": 1,
      "outputs": [
        {
          "output_type": "stream",
          "text": [
            "Thu Jul 16 07:37:19 2020       \n",
            "+-----------------------------------------------------------------------------+\n",
            "| NVIDIA-SMI 450.51.05    Driver Version: 418.67       CUDA Version: 10.1     |\n",
            "|-------------------------------+----------------------+----------------------+\n",
            "| GPU  Name        Persistence-M| Bus-Id        Disp.A | Volatile Uncorr. ECC |\n",
            "| Fan  Temp  Perf  Pwr:Usage/Cap|         Memory-Usage | GPU-Util  Compute M. |\n",
            "|                               |                      |               MIG M. |\n",
            "|===============================+======================+======================|\n",
            "|   0  Tesla P100-PCIE...  Off  | 00000000:00:04.0 Off |                    0 |\n",
            "| N/A   34C    P0    28W / 250W |      0MiB / 16280MiB |      0%      Default |\n",
            "|                               |                      |                 ERR! |\n",
            "+-------------------------------+----------------------+----------------------+\n",
            "                                                                               \n",
            "+-----------------------------------------------------------------------------+\n",
            "| Processes:                                                                  |\n",
            "|  GPU   GI   CI        PID   Type   Process name                  GPU Memory |\n",
            "|        ID   ID                                                   Usage      |\n",
            "|=============================================================================|\n",
            "|  No running processes found                                                 |\n",
            "+-----------------------------------------------------------------------------+\n"
          ],
          "name": "stdout"
        }
      ]
    },
    {
      "cell_type": "code",
      "metadata": {
        "id": "YMe93xlQi_fz",
        "colab_type": "code",
        "colab": {
          "base_uri": "https://localhost:8080/",
          "height": 36
        },
        "outputId": "020c53a7-bcc8-4ee3-89e6-76a5d633f1e8"
      },
      "source": [
        "\"\"\"\n",
        "DON'T MODIFY ANYTHING IN THIS CELL\n",
        "\"\"\"\n",
        "%tensorflow_version 1.x\n",
        "import helper\n",
        "import problem_unittests as tests\n",
        "\n",
        "source_path = 'small_vocab_en'\n",
        "target_path = 'small_vocab_fr'\n",
        "\n",
        "source_text = helper.load_data(source_path)\n",
        "target_text = helper.load_data(target_path)"
      ],
      "execution_count": 1,
      "outputs": [
        {
          "output_type": "stream",
          "text": [
            "TensorFlow 1.x selected.\n"
          ],
          "name": "stdout"
        }
      ]
    },
    {
      "cell_type": "markdown",
      "metadata": {
        "id": "nUxKi39Oi_gI",
        "colab_type": "text"
      },
      "source": [
        "## Explore the Data\n",
        "Play around with view_sentence_range to view different parts of the data."
      ]
    },
    {
      "cell_type": "code",
      "metadata": {
        "id": "-VFa5pIYi_gP",
        "colab_type": "code",
        "colab": {
          "base_uri": "https://localhost:8080/",
          "height": 552
        },
        "outputId": "b1734571-cf11-45ea-c184-ad677597109d"
      },
      "source": [
        "view_sentence_range = (0, 10)\n",
        "\n",
        "\"\"\"\n",
        "DON'T MODIFY ANYTHING IN THIS CELL\n",
        "\"\"\"\n",
        "import numpy as np\n",
        "\n",
        "print('Dataset Stats')\n",
        "print('Roughly the number of unique words: {}'.format(len({word: None for word in source_text.split()})))\n",
        "\n",
        "sentences = source_text.split('\\n')\n",
        "word_counts = [len(sentence.split()) for sentence in sentences]\n",
        "print('Number of sentences: {}'.format(len(sentences)))\n",
        "print('Average number of words in a sentence: {}'.format(np.average(word_counts)))\n",
        "\n",
        "print()\n",
        "print('English sentences {} to {}:'.format(*view_sentence_range))\n",
        "print('\\n'.join(source_text.split('\\n')[view_sentence_range[0]:view_sentence_range[1]]))\n",
        "print()\n",
        "print('French sentences {} to {}:'.format(*view_sentence_range))\n",
        "print('\\n'.join(target_text.split('\\n')[view_sentence_range[0]:view_sentence_range[1]]))"
      ],
      "execution_count": 2,
      "outputs": [
        {
          "output_type": "stream",
          "text": [
            "Dataset Stats\n",
            "Roughly the number of unique words: 227\n",
            "Number of sentences: 137861\n",
            "Average number of words in a sentence: 13.225277634719028\n",
            "\n",
            "English sentences 0 to 10:\n",
            "new jersey is sometimes quiet during autumn , and it is snowy in april .\n",
            "the united states is usually chilly during july , and it is usually freezing in november .\n",
            "california is usually quiet during march , and it is usually hot in june .\n",
            "the united states is sometimes mild during june , and it is cold in september .\n",
            "your least liked fruit is the grape , but my least liked is the apple .\n",
            "his favorite fruit is the orange , but my favorite is the grape .\n",
            "paris is relaxing during december , but it is usually chilly in july .\n",
            "new jersey is busy during spring , and it is never hot in march .\n",
            "our least liked fruit is the lemon , but my least liked is the grape .\n",
            "the united states is sometimes busy during january , and it is sometimes warm in november .\n",
            "\n",
            "French sentences 0 to 10:\n",
            "new jersey est parfois calme pendant l' automne , et il est neigeux en avril .\n",
            "les états-unis est généralement froid en juillet , et il gèle habituellement en novembre .\n",
            "california est généralement calme en mars , et il est généralement chaud en juin .\n",
            "les états-unis est parfois légère en juin , et il fait froid en septembre .\n",
            "votre moins aimé fruit est le raisin , mais mon moins aimé est la pomme .\n",
            "son fruit préféré est l'orange , mais mon préféré est le raisin .\n",
            "paris est relaxant en décembre , mais il est généralement froid en juillet .\n",
            "new jersey est occupé au printemps , et il est jamais chaude en mars .\n",
            "notre fruit est moins aimé le citron , mais mon moins aimé est le raisin .\n",
            "les états-unis est parfois occupé en janvier , et il est parfois chaud en novembre .\n"
          ],
          "name": "stdout"
        }
      ]
    },
    {
      "cell_type": "markdown",
      "metadata": {
        "id": "Y0qvOtk1i_gb",
        "colab_type": "text"
      },
      "source": [
        "## Implement Preprocessing Function\n",
        "### Text to Word Ids\n",
        "As you did with other RNNs, you must turn the text into a number so the computer can understand it. In the function `text_to_ids()`, you'll turn `source_text` and `target_text` from words to ids.  However, you need to add the `<EOS>` word id at the end of `target_text`.  This will help the neural network predict when the sentence should end.\n",
        "\n",
        "You can get the `<EOS>` word id by doing:\n",
        "```python\n",
        "target_vocab_to_int['<EOS>']\n",
        "```\n",
        "You can get other word ids using `source_vocab_to_int` and `target_vocab_to_int`."
      ]
    },
    {
      "cell_type": "code",
      "metadata": {
        "id": "tMvmh_84i_gf",
        "colab_type": "code",
        "colab": {
          "base_uri": "https://localhost:8080/",
          "height": 36
        },
        "outputId": "67941f0c-4883-4989-b8e4-0f37f364862a"
      },
      "source": [
        "def text_to_ids(source_text, target_text, source_vocab_to_int, target_vocab_to_int):\n",
        "    \"\"\"\n",
        "    Convert source and target text to proper word ids\n",
        "    :param source_text: String that contains all the source text.\n",
        "    :param target_text: String that contains all the target text.\n",
        "    :param source_vocab_to_int: Dictionary to go from the source words to an id\n",
        "    :param target_vocab_to_int: Dictionary to go from the target words to an id\n",
        "    :return: A tuple of lists (source_id_text, target_id_text)\n",
        "    \"\"\"\n",
        "    # TODO: Implement Function\n",
        "    source_id_text= []\n",
        "    target_id_text =[]\n",
        "\n",
        "    for sentences in source_text.split('\\n'):\n",
        "      buffer = []\n",
        "      for word in sentences.split():\n",
        "            # Just in case there is not map to this word.\n",
        "        buffer.append(source_vocab_to_int.get(word,source_vocab_to_int['<UNK>']))\n",
        "      source_id_text.append(buffer)\n",
        "    for sentence in target_text.split('\\n'):\n",
        "        buffer = []\n",
        "        for word in sentence.split():\n",
        "            # Just in case there is not map to this word.\n",
        "            buffer.append(target_vocab_to_int.get(word,\n",
        "                                                  target_vocab_to_int['<UNK>']))\n",
        "        buffer.append(target_vocab_to_int['<EOS>'])\n",
        "        target_id_text.append(buffer)    \n",
        "    return source_id_text, target_id_text\n",
        "\n",
        "\"\"\"\n",
        "DON'T MODIFY ANYTHING IN THIS CELL THAT IS BELOW THIS LINE\n",
        "\"\"\"\n",
        "tests.test_text_to_ids(text_to_ids)"
      ],
      "execution_count": 4,
      "outputs": [
        {
          "output_type": "stream",
          "text": [
            "Tests Passed\n"
          ],
          "name": "stdout"
        }
      ]
    },
    {
      "cell_type": "markdown",
      "metadata": {
        "id": "QSfteGMki_gp",
        "colab_type": "text"
      },
      "source": [
        "### Preprocess all the data and save it\n",
        "Running the code cell below will preprocess all the data and save it to file."
      ]
    },
    {
      "cell_type": "code",
      "metadata": {
        "id": "N6jjy9v8i_gr",
        "colab_type": "code",
        "colab": {}
      },
      "source": [
        "\"\"\"\n",
        "DON'T MODIFY ANYTHING IN THIS CELL\n",
        "\"\"\"\n",
        "helper.preprocess_and_save_data(source_path, target_path, text_to_ids)"
      ],
      "execution_count": 5,
      "outputs": []
    },
    {
      "cell_type": "markdown",
      "metadata": {
        "id": "ew89sSjmi_g1",
        "colab_type": "text"
      },
      "source": [
        "# Check Point\n",
        "This is your first checkpoint. If you ever decide to come back to this notebook or have to restart the notebook, you can start from here. The preprocessed data has been saved to disk."
      ]
    },
    {
      "cell_type": "code",
      "metadata": {
        "id": "zx20uqlxi_g2",
        "colab_type": "code",
        "colab": {}
      },
      "source": [
        "\"\"\"\n",
        "DON'T MODIFY ANYTHING IN THIS CELL\n",
        "\"\"\"\n",
        "import numpy as np\n",
        "import helper\n",
        "import problem_unittests as tests\n",
        "\n",
        "(source_int_text, target_int_text), (source_vocab_to_int, target_vocab_to_int), _ = helper.load_preprocess()"
      ],
      "execution_count": 6,
      "outputs": []
    },
    {
      "cell_type": "markdown",
      "metadata": {
        "id": "gbNN3ZzXi_hE",
        "colab_type": "text"
      },
      "source": [
        "### Check the Version of TensorFlow and Access to GPU\n",
        "This will check to make sure you have the correct version of TensorFlow and access to a GPU"
      ]
    },
    {
      "cell_type": "code",
      "metadata": {
        "id": "T1WgyC6Qi_hG",
        "colab_type": "code",
        "colab": {
          "base_uri": "https://localhost:8080/",
          "height": 55
        },
        "outputId": "c65ded67-0870-437c-f396-400aa6d14a8e"
      },
      "source": [
        "\"\"\"\n",
        "DON'T MODIFY ANYTHING IN THIS CELL\n",
        "\"\"\"\n",
        "from distutils.version import LooseVersion\n",
        "import warnings\n",
        "import tensorflow as tf\n",
        "from tensorflow.python.layers.core import Dense\n",
        "\n",
        "# Check TensorFlow Version\n",
        "assert LooseVersion(tf.__version__) >= LooseVersion('1.1'), 'Please use TensorFlow version 1.1 or newer'\n",
        "print('TensorFlow Version: {}'.format(tf.__version__))\n",
        "\n",
        "# Check for a GPU\n",
        "if not tf.test.gpu_device_name():\n",
        "    warnings.warn('No GPU found. Please use a GPU to train your neural network.')\n",
        "else:\n",
        "    print('Default GPU Device: {}'.format(tf.test.gpu_device_name()))"
      ],
      "execution_count": 7,
      "outputs": [
        {
          "output_type": "stream",
          "text": [
            "TensorFlow Version: 1.15.2\n",
            "Default GPU Device: /device:GPU:0\n"
          ],
          "name": "stdout"
        }
      ]
    },
    {
      "cell_type": "markdown",
      "metadata": {
        "id": "aJgILWA-i_hN",
        "colab_type": "text"
      },
      "source": [
        "## Build the Neural Network\n",
        "You'll build the components necessary to build a Sequence-to-Sequence model by implementing the following functions below:\n",
        "- `model_inputs`\n",
        "- `process_decoder_input`\n",
        "- `encoding_layer`\n",
        "- `decoding_layer_train`\n",
        "- `decoding_layer_infer`\n",
        "- `decoding_layer`\n",
        "- `seq2seq_model`\n",
        "\n",
        "### Input\n",
        "Implement the `model_inputs()` function to create TF Placeholders for the Neural Network. It should create the following placeholders:\n",
        "\n",
        "- Input text placeholder named \"input\" using the TF Placeholder name parameter with rank 2.\n",
        "- Targets placeholder with rank 2.\n",
        "- Learning rate placeholder with rank 0.\n",
        "- Keep probability placeholder named \"keep_prob\" using the TF Placeholder name parameter with rank 0.\n",
        "- Target sequence length placeholder named \"target_sequence_length\" with rank 1\n",
        "- Max target sequence length tensor named \"max_target_len\" getting its value from applying tf.reduce_max on the target_sequence_length placeholder. Rank 0.\n",
        "- Source sequence length placeholder named \"source_sequence_length\" with rank 1\n",
        "\n",
        "Return the placeholders in the following the tuple (input, targets, learning rate, keep probability, target sequence length, max target sequence length, source sequence length)"
      ]
    },
    {
      "cell_type": "code",
      "metadata": {
        "id": "vzstOgk2i_hO",
        "colab_type": "code",
        "colab": {
          "base_uri": "https://localhost:8080/",
          "height": 74
        },
        "outputId": "df3258c8-e251-4136-a41b-8815caadd49f"
      },
      "source": [
        "def model_inputs():\n",
        "    \"\"\"\n",
        "    Create TF Placeholders for input, targets, learning rate, and lengths of source and target sequences.\n",
        "    :return: Tuple (input, targets, learning rate, keep probability, target sequence length,\n",
        "    max target sequence length, source sequence length)\n",
        "    \"\"\"\n",
        "    # TODO: Implement Function\n",
        "    inputs = tf.placeholder(tf.int32, [None, None], name = 'input')\n",
        "    targets = tf.placeholder(tf.int32, [None, None], name = 'targets')\n",
        "    learning_rate = tf.placeholder(tf.float32, name = 'learning_rate')\n",
        "    keep_prob = tf.placeholder(tf.float32, name = 'keep_prob')\n",
        "    target_seq_len = tf.placeholder(tf.int32, [None], name = 'target_sequence_length')\n",
        "    max_target_len = tf.reduce_max(target_seq_len, name = 'max_target_length')\n",
        "    source_seq_len = tf.placeholder(tf.int32, [None], name = 'source_sequence_length')    \n",
        "    return inputs, targets, learning_rate, keep_prob, target_seq_len, max_target_len, source_seq_len\n",
        "\n",
        "\n",
        "\"\"\"\n",
        "DON'T MODIFY ANYTHING IN THIS CELL THAT IS BELOW THIS LINE\n",
        "\"\"\"\n",
        "tests.test_model_inputs(model_inputs)"
      ],
      "execution_count": 9,
      "outputs": [
        {
          "output_type": "stream",
          "text": [
            "WARNING:tensorflow:From /content/problem_unittests.py:104: The name tf.assert_rank is deprecated. Please use tf.compat.v1.assert_rank instead.\n",
            "\n",
            "Tests Passed\n"
          ],
          "name": "stdout"
        }
      ]
    },
    {
      "cell_type": "markdown",
      "metadata": {
        "id": "DEXhPOd6i_hT",
        "colab_type": "text"
      },
      "source": [
        "### Process Decoder Input\n",
        "Implement `process_decoder_input` by removing the last word id from each batch in `target_data` and concat the GO ID to the begining of each batch."
      ]
    },
    {
      "cell_type": "code",
      "metadata": {
        "id": "T5gq5pMxi_hV",
        "colab_type": "code",
        "colab": {
          "base_uri": "https://localhost:8080/",
          "height": 324
        },
        "outputId": "529f16ce-fcbf-427c-e89a-1da595d5db80"
      },
      "source": [
        "def process_decoder_input(target_data, target_vocab_to_int, batch_size):\n",
        "    \"\"\"\n",
        "    Preprocess target data for encoding\n",
        "    :param target_data: Target Placehoder\n",
        "    :param target_vocab_to_int: Dictionary to go from the target words to an id\n",
        "    :param batch_size: Batch Size\n",
        "    :return: Preprocessed target data\n",
        "    \"\"\"\n",
        "    # TODO: Implement Function\n",
        "    removed_last = tf.strided_slice(target_data,[0, 0],[batch_size, -1],[1, 1])\n",
        "    \n",
        "    go_id = tf.fill([batch_size, 1], target_vocab_to_int['<GO>'])\n",
        "    preprocessed_target_data = tf.concat([go_id, removed_last], 1)\n",
        "    \n",
        "    return preprocessed_target_data\n",
        "\n",
        "\n",
        "\"\"\"\n",
        "DON'T MODIFY ANYTHING IN THIS CELL THAT IS BELOW THIS LINE\n",
        "\"\"\"\n",
        "tests.test_process_encoding_input(process_decoder_input)"
      ],
      "execution_count": 10,
      "outputs": [
        {
          "output_type": "stream",
          "text": [
            "ERROR:tensorflow:==================================\n",
            "Object was never used (type <class 'tensorflow.python.framework.ops.Operation'>):\n",
            "<tf.Operation 'assert_rank_3/Assert/Assert' type=Assert>\n",
            "If you want to mark it as used call its \"mark_used()\" method.\n",
            "It was originally created here:\n",
            "  File \"<ipython-input-9-35f6631d9ec2>\", line 21, in <module>\n",
            "    tests.test_model_inputs(model_inputs)  File \"/content/problem_unittests.py\", line 112, in test_model_inputs\n",
            "    _print_success_message()  File \"/tensorflow-1.15.2/python3.6/tensorflow_core/python/ops/check_ops.py\", line 1155, in assert_rank\n",
            "    return assert_op  File \"/tensorflow-1.15.2/python3.6/tensorflow_core/python/ops/check_ops.py\", line 1060, in _assert_rank_condition\n",
            "    return control_flow_ops.Assert(condition, data, summarize=summarize)  File \"/tensorflow-1.15.2/python3.6/tensorflow_core/python/util/tf_should_use.py\", line 198, in wrapped\n",
            "    return _add_should_use_warning(fn(*args, **kwargs))\n",
            "==================================\n",
            "WARNING:tensorflow:From /content/problem_unittests.py:293: The name tf.Session is deprecated. Please use tf.compat.v1.Session instead.\n",
            "\n",
            "Tests Passed\n"
          ],
          "name": "stdout"
        }
      ]
    },
    {
      "cell_type": "markdown",
      "metadata": {
        "id": "1h2yxIwji_hd",
        "colab_type": "text"
      },
      "source": [
        "### Encoding\n",
        "Implement `encoding_layer()` to create a Encoder RNN layer:\n",
        " * Embed the encoder input using [`tf.contrib.layers.embed_sequence`](https://www.tensorflow.org/api_docs/python/tf/contrib/layers/embed_sequence)\n",
        " * Construct a [stacked](https://github.com/tensorflow/tensorflow/blob/6947f65a374ebf29e74bb71e36fd82760056d82c/tensorflow/docs_src/tutorials/recurrent.md#stacking-multiple-lstms) [`tf.contrib.rnn.LSTMCell`](https://www.tensorflow.org/api_docs/python/tf/contrib/rnn/LSTMCell) wrapped in a [`tf.contrib.rnn.DropoutWrapper`](https://www.tensorflow.org/api_docs/python/tf/contrib/rnn/DropoutWrapper)\n",
        " * Pass cell and embedded input to [`tf.nn.dynamic_rnn()`](https://www.tensorflow.org/api_docs/python/tf/nn/dynamic_rnn)"
      ]
    },
    {
      "cell_type": "code",
      "metadata": {
        "scrolled": false,
        "id": "njIR7o7pi_hf",
        "colab_type": "code",
        "colab": {
          "base_uri": "https://localhost:8080/",
          "height": 782
        },
        "outputId": "982226d8-70df-4d05-8cab-271c80ea9564"
      },
      "source": [
        "from imp import reload\n",
        "reload(tests)\n",
        "\n",
        "def encoding_layer(rnn_inputs, rnn_size, num_layers, keep_prob, \n",
        "                   source_sequence_length, source_vocab_size, \n",
        "                   encoding_embedding_size):\n",
        "    \"\"\"\n",
        "    Create encoding layer\n",
        "    :param rnn_inputs: Inputs for the RNN\n",
        "    :param rnn_size: RNN Size\n",
        "    :param num_layers: Number of layers\n",
        "    :param keep_prob: Dropout keep probability\n",
        "    :param source_sequence_length: a list of the lengths of each sequence in the batch\n",
        "    :param source_vocab_size: vocabulary size of source data\n",
        "    :param encoding_embedding_size: embedding size of source data\n",
        "    :return: tuple (RNN output, RNN state)\n",
        "    \"\"\"\n",
        "    # TODO: Implement Function\n",
        "    def lstm_cell(lstm_size):\n",
        "        lstm_cell = tf.contrib.rnn.LSTMCell(\n",
        "            lstm_size, \n",
        "            initializer=tf.random_uniform_initializer(-0.1, 0.1, seed=7)\n",
        "        )\n",
        "        return tf.contrib.rnn.DropoutWrapper(lstm_cell, output_keep_prob=keep_prob)\n",
        "    \n",
        "    enc_embed_input = tf.contrib.layers.embed_sequence(rnn_inputs, source_vocab_size, encoding_embedding_size)\n",
        "    stacked_lstm = tf.contrib.rnn.MultiRNNCell([lstm_cell(rnn_size) for _ in range(num_layers)])\n",
        "    enc_out, enc_state = tf.nn.dynamic_rnn(\n",
        "        stacked_lstm, \n",
        "        enc_embed_input, \n",
        "        sequence_length=source_sequence_length, \n",
        "        dtype=tf.float32\n",
        "    )\n",
        "    \n",
        "    return enc_out, enc_state\n",
        "\n",
        "\"\"\"\n",
        "DON'T MODIFY ANYTHING IN THIS CELL THAT IS BELOW THIS LINE\n",
        "\"\"\"\n",
        "tests.test_encoding_layer(encoding_layer)"
      ],
      "execution_count": 11,
      "outputs": [
        {
          "output_type": "stream",
          "text": [
            "WARNING:tensorflow:\n",
            "The TensorFlow contrib module will not be included in TensorFlow 2.0.\n",
            "For more information, please see:\n",
            "  * https://github.com/tensorflow/community/blob/master/rfcs/20180907-contrib-sunset.md\n",
            "  * https://github.com/tensorflow/addons\n",
            "  * https://github.com/tensorflow/io (for I/O related ops)\n",
            "If you depend on functionality not listed there, please file an issue.\n",
            "\n",
            "WARNING:tensorflow:From <ipython-input-11-00f7210a0976>:22: LSTMCell.__init__ (from tensorflow.python.ops.rnn_cell_impl) is deprecated and will be removed in a future version.\n",
            "Instructions for updating:\n",
            "This class is equivalent as tf.keras.layers.LSTMCell, and will be replaced by that in Tensorflow 2.0.\n",
            "WARNING:tensorflow:From <ipython-input-11-00f7210a0976>:27: MultiRNNCell.__init__ (from tensorflow.python.ops.rnn_cell_impl) is deprecated and will be removed in a future version.\n",
            "Instructions for updating:\n",
            "This class is equivalent as tf.keras.layers.StackedRNNCells, and will be replaced by that in Tensorflow 2.0.\n",
            "WARNING:tensorflow:From <ipython-input-11-00f7210a0976>:32: dynamic_rnn (from tensorflow.python.ops.rnn) is deprecated and will be removed in a future version.\n",
            "Instructions for updating:\n",
            "Please use `keras.layers.RNN(cell)`, which is equivalent to this API\n",
            "ERROR:tensorflow:==================================\n",
            "Object was never used (type <class 'tensorflow.python.framework.ops.Operation'>):\n",
            "<tf.Operation 'assert_rank_2/Assert/Assert' type=Assert>\n",
            "If you want to mark it as used call its \"mark_used()\" method.\n",
            "It was originally created here:\n",
            "  File \"<ipython-input-9-35f6631d9ec2>\", line 21, in <module>\n",
            "    tests.test_model_inputs(model_inputs)  File \"/content/problem_unittests.py\", line 112, in test_model_inputs\n",
            "    _print_success_message()  File \"/tensorflow-1.15.2/python3.6/tensorflow_core/python/ops/check_ops.py\", line 1155, in assert_rank\n",
            "    return assert_op  File \"/tensorflow-1.15.2/python3.6/tensorflow_core/python/ops/check_ops.py\", line 1060, in _assert_rank_condition\n",
            "    return control_flow_ops.Assert(condition, data, summarize=summarize)  File \"/tensorflow-1.15.2/python3.6/tensorflow_core/python/util/tf_should_use.py\", line 198, in wrapped\n",
            "    return _add_should_use_warning(fn(*args, **kwargs))\n",
            "==================================\n",
            "WARNING:tensorflow:From /tensorflow-1.15.2/python3.6/tensorflow_core/python/ops/rnn_cell_impl.py:958: Layer.add_variable (from tensorflow.python.keras.engine.base_layer) is deprecated and will be removed in a future version.\n",
            "Instructions for updating:\n",
            "Please use `layer.add_weight` method instead.\n",
            "WARNING:tensorflow:From /tensorflow-1.15.2/python3.6/tensorflow_core/python/ops/rnn_cell_impl.py:962: calling Zeros.__init__ (from tensorflow.python.ops.init_ops) with dtype is deprecated and will be removed in a future version.\n",
            "Instructions for updating:\n",
            "Call initializer instance with the dtype argument instead of passing it to the constructor\n",
            "WARNING:tensorflow:From /tensorflow-1.15.2/python3.6/tensorflow_core/python/ops/rnn.py:244: where (from tensorflow.python.ops.array_ops) is deprecated and will be removed in a future version.\n",
            "Instructions for updating:\n",
            "Use tf.where in 2.0, which has the same broadcast rule as np.where\n",
            "Tests Passed\n"
          ],
          "name": "stdout"
        }
      ]
    },
    {
      "cell_type": "markdown",
      "metadata": {
        "id": "tu4Si6Qri_hm",
        "colab_type": "text"
      },
      "source": [
        "### Decoding - Training\n",
        "Create a training decoding layer:\n",
        "* Create a [`tf.contrib.seq2seq.TrainingHelper`](https://www.tensorflow.org/api_docs/python/tf/contrib/seq2seq/TrainingHelper) \n",
        "* Create a [`tf.contrib.seq2seq.BasicDecoder`](https://www.tensorflow.org/api_docs/python/tf/contrib/seq2seq/BasicDecoder)\n",
        "* Obtain the decoder outputs from [`tf.contrib.seq2seq.dynamic_decode`](https://www.tensorflow.org/api_docs/python/tf/contrib/seq2seq/dynamic_decode)"
      ]
    },
    {
      "cell_type": "code",
      "metadata": {
        "id": "_Rjl23kji_hn",
        "colab_type": "code",
        "colab": {
          "base_uri": "https://localhost:8080/",
          "height": 74
        },
        "outputId": "8086b031-1575-40e1-f9f0-d523a47f994b"
      },
      "source": [
        "\n",
        "def decoding_layer_train(encoder_state, dec_cell, dec_embed_input, \n",
        "                         target_sequence_length, max_summary_length, \n",
        "                         output_layer, keep_prob):\n",
        "    \"\"\"\n",
        "    Create a decoding layer for training\n",
        "    :param encoder_state: Encoder State\n",
        "    :param dec_cell: Decoder RNN Cell\n",
        "    :param dec_embed_input: Decoder embedded input\n",
        "    :param target_sequence_length: The lengths of each sequence in the target batch\n",
        "    :param max_summary_length: The length of the longest sequence in the batch\n",
        "    :param output_layer: Function to apply the output layer\n",
        "    :param keep_prob: Dropout keep probability\n",
        "    :return: BasicDecoderOutput containing training logits and sample_id\n",
        "    \"\"\"\n",
        "    # TODO: Implement Function\n",
        "    training_helper = tf.contrib.seq2seq.TrainingHelper(dec_embed_input, target_sequence_length)\n",
        "    basic_decoder = tf.contrib.seq2seq.BasicDecoder(dec_cell, training_helper, encoder_state, output_layer)\n",
        "    final_outputs, _, __ = tf.contrib.seq2seq.dynamic_decode(basic_decoder, maximum_iteration = max_summary_length)\n",
        "    return final_outputs\n",
        "\n",
        "\n",
        "\n",
        "\"\"\"\n",
        "DON'T MODIFY ANYTHING IN THIS CELL THAT IS BELOW THIS LINE\n",
        "\"\"\"\n",
        "tests.test_decoding_layer_train(decoding_layer_train)"
      ],
      "execution_count": 12,
      "outputs": [
        {
          "output_type": "stream",
          "text": [
            "WARNING:tensorflow:From /content/problem_unittests.py:312: The name tf.variable_scope is deprecated. Please use tf.compat.v1.variable_scope instead.\n",
            "\n",
            "Tests Passed\n"
          ],
          "name": "stdout"
        }
      ]
    },
    {
      "cell_type": "markdown",
      "metadata": {
        "id": "Op41z6MOi_hu",
        "colab_type": "text"
      },
      "source": [
        "### Decoding - Inference\n",
        "Create inference decoder:\n",
        "* Create a [`tf.contrib.seq2seq.GreedyEmbeddingHelper`](https://www.tensorflow.org/api_docs/python/tf/contrib/seq2seq/GreedyEmbeddingHelper)\n",
        "* Create a [`tf.contrib.seq2seq.BasicDecoder`](https://www.tensorflow.org/api_docs/python/tf/contrib/seq2seq/BasicDecoder)\n",
        "* Obtain the decoder outputs from [`tf.contrib.seq2seq.dynamic_decode`](https://www.tensorflow.org/api_docs/python/tf/contrib/seq2seq/dynamic_decode)"
      ]
    },
    {
      "cell_type": "code",
      "metadata": {
        "scrolled": true,
        "id": "__ig_jV7i_hx",
        "colab_type": "code",
        "colab": {
          "base_uri": "https://localhost:8080/",
          "height": 74
        },
        "outputId": "1d8d46c8-3e28-4f22-d1bb-148a22cfe8be"
      },
      "source": [
        "def decoding_layer_infer(encoder_state, dec_cell, dec_embeddings, start_of_sequence_id,\n",
        "                         end_of_sequence_id, max_target_sequence_length,\n",
        "                         vocab_size, output_layer, batch_size, keep_prob):\n",
        "    \"\"\"\n",
        "    Create a decoding layer for inference\n",
        "    :param encoder_state: Encoder state\n",
        "    :param dec_cell: Decoder RNN Cell\n",
        "    :param dec_embeddings: Decoder embeddings\n",
        "    :param start_of_sequence_id: GO ID\n",
        "    :param end_of_sequence_id: EOS Id\n",
        "    :param max_target_sequence_length: Maximum length of target sequences\n",
        "    :param vocab_size: Size of decoder/target vocabulary\n",
        "    :param decoding_scope: TenorFlow Variable Scope for decoding\n",
        "    :param output_layer: Function to apply the output layer\n",
        "    :param batch_size: Batch size\n",
        "    :param keep_prob: Dropout keep probability\n",
        "    :return: BasicDecoderOutput containing inference logits and sample_id\n",
        "    \"\"\"\n",
        "    # TODO: Implement Function\n",
        "    start_tokens = tf.tile(tf.constant([start_of_sequence_id], dtype=tf.int32), [batch_size], name='start_tokens')\n",
        "    embed_helper = tf.contrib.seq2seq.GreedyEmbeddingHelper(dec_embeddings, start_tokens, end_of_sequence_id)\n",
        "    basic_decoder = tf.contrib.seq2seq.BasicDecoder(dec_cell, embed_helper, encoder_state, output_layer)\n",
        "    final_outputs, _, __ = tf.contrib.seq2seq.dynamic_decode(basic_decoder, maximum_iteration = max_target_sequence_length)\n",
        "    return final_outputs\n",
        "\n",
        "\n",
        "\n",
        "\"\"\"\n",
        "DON'T MODIFY ANYTHING IN THIS CELL THAT IS BELOW THIS LINE\n",
        "\"\"\"\n",
        "tests.test_decoding_layer_infer(decoding_layer_infer)"
      ],
      "execution_count": 13,
      "outputs": [
        {
          "output_type": "stream",
          "text": [
            "WARNING:tensorflow:From /content/problem_unittests.py:368: The name tf.random_uniform is deprecated. Please use tf.random.uniform instead.\n",
            "\n",
            "Tests Passed\n"
          ],
          "name": "stdout"
        }
      ]
    },
    {
      "cell_type": "markdown",
      "metadata": {
        "id": "gZ3tseADi_h9",
        "colab_type": "text"
      },
      "source": [
        "### Build the Decoding Layer\n",
        "Implement `decoding_layer()` to create a Decoder RNN layer.\n",
        "\n",
        "* Embed the target sequences\n",
        "* Construct the decoder LSTM cell (just like you constructed the encoder cell above)\n",
        "* Create an output layer to map the outputs of the decoder to the elements of our vocabulary\n",
        "* Use the your `decoding_layer_train(encoder_state, dec_cell, dec_embed_input, target_sequence_length, max_target_sequence_length, output_layer, keep_prob)` function to get the training logits.\n",
        "* Use your `decoding_layer_infer(encoder_state, dec_cell, dec_embeddings, start_of_sequence_id, end_of_sequence_id, max_target_sequence_length, vocab_size, output_layer, batch_size, keep_prob)` function to get the inference logits.\n",
        "\n",
        "Note: You'll need to use [tf.variable_scope](https://www.tensorflow.org/api_docs/python/tf/variable_scope) to share variables between training and inference."
      ]
    },
    {
      "cell_type": "code",
      "metadata": {
        "id": "N--y21ZGi_h_",
        "colab_type": "code",
        "colab": {
          "base_uri": "https://localhost:8080/",
          "height": 36
        },
        "outputId": "ba462e61-c945-4e37-b043-4a7702f5b007"
      },
      "source": [
        "def decoding_layer(dec_input, encoder_state,\n",
        "                   target_sequence_length, max_target_sequence_length,\n",
        "                   rnn_size,\n",
        "                   num_layers, target_vocab_to_int, target_vocab_size,\n",
        "                   batch_size, keep_prob, decoding_embedding_size):\n",
        "    \"\"\"\n",
        "    Create decoding layer\n",
        "    :param dec_input: Decoder input\n",
        "    :param encoder_state: Encoder state\n",
        "    :param target_sequence_length: The lengths of each sequence in the target batch\n",
        "    :param max_target_sequence_length: Maximum length of target sequences\n",
        "    :param rnn_size: RNN Size\n",
        "    :param num_layers: Number of layers\n",
        "    :param target_vocab_to_int: Dictionary to go from the target words to an id\n",
        "    :param target_vocab_size: Size of target vocabulary\n",
        "    :param batch_size: The size of the batch\n",
        "    :param keep_prob: Dropout keep probability\n",
        "    :param decoding_embedding_size: Decoding embedding size\n",
        "    :return: Tuple of (Training BasicDecoderOutput, Inference BasicDecoderOutput)\n",
        "    \"\"\"\n",
        "    # TODO: Implement Function\n",
        "    def lstm_cell(rnn_size):\n",
        "        lstm = tf.contrib.rnn.LSTMCell(rnn_size, initializer=tf.random_uniform_initializer(-0.1, 0.1, seed=2))\n",
        "        return tf.contrib.rnn.DropoutWrapper(lstm, output_keep_prob=keep_prob)\n",
        "    \n",
        "    start_sequence_id = target_vocab_to_int['<GO>']\n",
        "    end_sequence_id = target_vocab_to_int['<EOS>']\n",
        "    \n",
        "    dec_embeddings = tf.Variable(tf.random_uniform([target_vocab_size, decoding_embedding_size], -1, 1))\n",
        "    dec_embed_input = tf.nn.embedding_lookup(dec_embeddings, dec_input)\n",
        "        \n",
        "    stacked_lstm_cells = tf.contrib.rnn.MultiRNNCell([lstm_cell(rnn_size) for _ in range(num_layers)])\n",
        "    dec_cell = tf.contrib.rnn.DropoutWrapper(stacked_lstm_cells, keep_prob)\n",
        "    output_layer = Dense(target_vocab_size, \n",
        "                         kernel_initializer = tf.truncated_normal_initializer(mean = 0.0, stddev=0.1))\n",
        "\n",
        "    with tf.variable_scope(\"decode\") as decoding_scope:\n",
        "        training_logits = decoding_layer_train(\n",
        "            encoder_state, \n",
        "            dec_cell,\n",
        "            dec_embed_input,\n",
        "            target_sequence_length,\n",
        "            max_target_sequence_length,\n",
        "            output_layer,\n",
        "            keep_prob)\n",
        "        \n",
        "        decoding_scope.reuse_variables()\n",
        "        \n",
        "        inference_logits = decoding_layer_infer(\n",
        "            encoder_state,\n",
        "            dec_cell,\n",
        "            dec_embeddings,                                    \n",
        "            start_sequence_id,               \n",
        "            end_sequence_id,\n",
        "            max_target_sequence_length,\n",
        "            target_vocab_size,\n",
        "            output_layer,\n",
        "            batch_size,\n",
        "            keep_prob)\n",
        "    \n",
        "    return training_logits, inference_logits\n",
        "\n",
        "\n",
        "\n",
        "\"\"\"\n",
        "DON'T MODIFY ANYTHING IN THIS CELL THAT IS BELOW THIS LINE\n",
        "\"\"\"\n",
        "tests.test_decoding_layer(decoding_layer)"
      ],
      "execution_count": 14,
      "outputs": [
        {
          "output_type": "stream",
          "text": [
            "Tests Passed\n"
          ],
          "name": "stdout"
        }
      ]
    },
    {
      "cell_type": "markdown",
      "metadata": {
        "id": "dTI3l5GCi_iG",
        "colab_type": "text"
      },
      "source": [
        "### Build the Neural Network\n",
        "Apply the functions you implemented above to:\n",
        "\n",
        "- Encode the input using your `encoding_layer(rnn_inputs, rnn_size, num_layers, keep_prob,  source_sequence_length, source_vocab_size, encoding_embedding_size)`.\n",
        "- Process target data using your `process_decoder_input(target_data, target_vocab_to_int, batch_size)` function.\n",
        "- Decode the encoded input using your `decoding_layer(dec_input, enc_state, target_sequence_length, max_target_sentence_length, rnn_size, num_layers, target_vocab_to_int, target_vocab_size, batch_size, keep_prob, dec_embedding_size)` function."
      ]
    },
    {
      "cell_type": "code",
      "metadata": {
        "id": "FVRAEUc5i_iH",
        "colab_type": "code",
        "colab": {
          "base_uri": "https://localhost:8080/",
          "height": 36
        },
        "outputId": "48472e76-3131-4053-f2e2-c03da236cf53"
      },
      "source": [
        "def seq2seq_model(input_data, target_data, keep_prob, batch_size,\n",
        "                  source_sequence_length, target_sequence_length,\n",
        "                  max_target_sentence_length,\n",
        "                  source_vocab_size, target_vocab_size,\n",
        "                  enc_embedding_size, dec_embedding_size,\n",
        "                  rnn_size, num_layers, target_vocab_to_int):\n",
        "    \"\"\"\n",
        "    Build the Sequence-to-Sequence part of the neural network\n",
        "    :param input_data: Input placeholder\n",
        "    :param target_data: Target placeholder\n",
        "    :param keep_prob: Dropout keep probability placeholder\n",
        "    :param batch_size: Batch Size\n",
        "    :param source_sequence_length: Sequence Lengths of source sequences in the batch\n",
        "    :param target_sequence_length: Sequence Lengths of target sequences in the batch\n",
        "    :param source_vocab_size: Source vocabulary size\n",
        "    :param target_vocab_size: Target vocabulary size\n",
        "    :param enc_embedding_size: Decoder embedding size\n",
        "    :param dec_embedding_size: Encoder embedding size\n",
        "    :param rnn_size: RNN Size\n",
        "    :param num_layers: Number of layers\n",
        "    :param target_vocab_to_int: Dictionary to go from the target words to an id\n",
        "    :return: Tuple of (Training BasicDecoderOutput, Inference BasicDecoderOutput)\n",
        "    \"\"\"\n",
        "    # TODO: Implement Function\n",
        "    _, enc_state = encoding_layer(\n",
        "        input_data,\n",
        "        rnn_size,\n",
        "        num_layers,\n",
        "        keep_prob,\n",
        "        source_sequence_length,\n",
        "        source_vocab_size,\n",
        "        enc_embedding_size\n",
        "    )\n",
        "    \n",
        "    dec_input = process_decoder_input(\n",
        "        target_data, \n",
        "        target_vocab_to_int, \n",
        "        batch_size\n",
        "    )\n",
        "    \n",
        "    training_logits, inference_logits = decoding_layer(\n",
        "        dec_input,\n",
        "        enc_state,\n",
        "        target_sequence_length,\n",
        "        max_target_sentence_length,\n",
        "        rnn_size, \n",
        "        num_layers,\n",
        "        target_vocab_to_int,\n",
        "        target_vocab_size,\n",
        "        batch_size,\n",
        "        keep_prob,\n",
        "        dec_embedding_size\n",
        "    )\n",
        "    \n",
        "    return training_logits, inference_logits\n",
        "\n",
        "\n",
        "\"\"\"\n",
        "DON'T MODIFY ANYTHING IN THIS CELL THAT IS BELOW THIS LINE\n",
        "\"\"\"\n",
        "tests.test_seq2seq_model(seq2seq_model)"
      ],
      "execution_count": 18,
      "outputs": [
        {
          "output_type": "stream",
          "text": [
            "Tests Passed\n"
          ],
          "name": "stdout"
        }
      ]
    },
    {
      "cell_type": "markdown",
      "metadata": {
        "id": "rwGu3zDJi_iP",
        "colab_type": "text"
      },
      "source": [
        "## Neural Network Training\n",
        "### Hyperparameters\n",
        "Tune the following parameters:\n",
        "\n",
        "- Set `epochs` to the number of epochs.\n",
        "- Set `batch_size` to the batch size.\n",
        "- Set `rnn_size` to the size of the RNNs.\n",
        "- Set `num_layers` to the number of layers.\n",
        "- Set `encoding_embedding_size` to the size of the embedding for the encoder.\n",
        "- Set `decoding_embedding_size` to the size of the embedding for the decoder.\n",
        "- Set `learning_rate` to the learning rate.\n",
        "- Set `keep_probability` to the Dropout keep probability\n",
        "- Set `display_step` to state how many steps between each debug output statement"
      ]
    },
    {
      "cell_type": "code",
      "metadata": {
        "id": "Q0QYaVd3i_iQ",
        "colab_type": "code",
        "colab": {}
      },
      "source": [
        "# Number of Epochs\n",
        "epochs = 10\n",
        "# Batch Size\n",
        "batch_size = 256\n",
        "# RNN Size\n",
        "rnn_size = 256\n",
        "# Number of Layers\n",
        "num_layers = 1\n",
        "# Embedding Size\n",
        "encoding_embedding_size = 128\n",
        "decoding_embedding_size = 128\n",
        "# Learning Rate\n",
        "learning_rate = 0.001\n",
        "# Dropout Keep Probability\n",
        "keep_probability = 0.5\n",
        "display_step = 20"
      ],
      "execution_count": 16,
      "outputs": []
    },
    {
      "cell_type": "markdown",
      "metadata": {
        "id": "Psnwt-gJi_iW",
        "colab_type": "text"
      },
      "source": [
        "### Build the Graph\n",
        "Build the graph using the neural network you implemented."
      ]
    },
    {
      "cell_type": "code",
      "metadata": {
        "id": "26WtOD3Bi_iX",
        "colab_type": "code",
        "colab": {}
      },
      "source": [
        "\"\"\"\n",
        "DON'T MODIFY ANYTHING IN THIS CELL\n",
        "\"\"\"\n",
        "save_path = 'checkpoints/dev'\n",
        "(source_int_text, target_int_text), (source_vocab_to_int, target_vocab_to_int), _ = helper.load_preprocess()\n",
        "max_target_sentence_length = max([len(sentence) for sentence in source_int_text])\n",
        "\n",
        "train_graph = tf.Graph()\n",
        "with train_graph.as_default():\n",
        "    input_data, targets, lr, keep_prob, target_sequence_length, max_target_sequence_length, source_sequence_length = model_inputs()\n",
        "\n",
        "    #sequence_length = tf.placeholder_with_default(max_target_sentence_length, None, name='sequence_length')\n",
        "    input_shape = tf.shape(input_data)\n",
        "\n",
        "    train_logits, inference_logits = seq2seq_model(tf.reverse(input_data, [-1]),\n",
        "                                                   targets,\n",
        "                                                   keep_prob,\n",
        "                                                   batch_size,\n",
        "                                                   source_sequence_length,\n",
        "                                                   target_sequence_length,\n",
        "                                                   max_target_sequence_length,\n",
        "                                                   len(source_vocab_to_int),\n",
        "                                                   len(target_vocab_to_int),\n",
        "                                                   encoding_embedding_size,\n",
        "                                                   decoding_embedding_size,\n",
        "                                                   rnn_size,\n",
        "                                                   num_layers,\n",
        "                                                   target_vocab_to_int)\n",
        "\n",
        "\n",
        "    training_logits = tf.identity(train_logits.rnn_output, name='logits')\n",
        "    inference_logits = tf.identity(inference_logits.sample_id, name='predictions')\n",
        "\n",
        "    masks = tf.sequence_mask(target_sequence_length, max_target_sequence_length, dtype=tf.float32, name='masks')\n",
        "\n",
        "    with tf.name_scope(\"optimization\"):\n",
        "        # Loss function\n",
        "        cost = tf.contrib.seq2seq.sequence_loss(\n",
        "            training_logits,\n",
        "            targets,\n",
        "            masks)\n",
        "\n",
        "        # Optimizer\n",
        "        optimizer = tf.train.AdamOptimizer(lr)\n",
        "\n",
        "        # Gradient Clipping\n",
        "        gradients = optimizer.compute_gradients(cost)\n",
        "        capped_gradients = [(tf.clip_by_value(grad, -1., 1.), var) for grad, var in gradients if grad is not None]\n",
        "        train_op = optimizer.apply_gradients(capped_gradients)\n"
      ],
      "execution_count": 19,
      "outputs": []
    },
    {
      "cell_type": "markdown",
      "metadata": {
        "id": "iRq0X8-mi_id",
        "colab_type": "text"
      },
      "source": [
        "Batch and pad the source and target sequences"
      ]
    },
    {
      "cell_type": "code",
      "metadata": {
        "id": "6G84v9C6i_ig",
        "colab_type": "code",
        "colab": {}
      },
      "source": [
        "\"\"\"\n",
        "DON'T MODIFY ANYTHING IN THIS CELL\n",
        "\"\"\"\n",
        "def pad_sentence_batch(sentence_batch, pad_int):\n",
        "    \"\"\"Pad sentences with <PAD> so that each sentence of a batch has the same length\"\"\"\n",
        "    max_sentence = max([len(sentence) for sentence in sentence_batch])\n",
        "    return [sentence + [pad_int] * (max_sentence - len(sentence)) for sentence in sentence_batch]\n",
        "\n",
        "\n",
        "def get_batches(sources, targets, batch_size, source_pad_int, target_pad_int):\n",
        "    \"\"\"Batch targets, sources, and the lengths of their sentences together\"\"\"\n",
        "    for batch_i in range(0, len(sources)//batch_size):\n",
        "        start_i = batch_i * batch_size\n",
        "\n",
        "        # Slice the right amount for the batch\n",
        "        sources_batch = sources[start_i:start_i + batch_size]\n",
        "        targets_batch = targets[start_i:start_i + batch_size]\n",
        "\n",
        "        # Pad\n",
        "        pad_sources_batch = np.array(pad_sentence_batch(sources_batch, source_pad_int))\n",
        "        pad_targets_batch = np.array(pad_sentence_batch(targets_batch, target_pad_int))\n",
        "\n",
        "        # Need the lengths for the _lengths parameters\n",
        "        pad_targets_lengths = []\n",
        "        for target in pad_targets_batch:\n",
        "            pad_targets_lengths.append(len(target))\n",
        "\n",
        "        pad_source_lengths = []\n",
        "        for source in pad_sources_batch:\n",
        "            pad_source_lengths.append(len(source))\n",
        "\n",
        "        yield pad_sources_batch, pad_targets_batch, pad_source_lengths, pad_targets_lengths\n"
      ],
      "execution_count": 20,
      "outputs": []
    },
    {
      "cell_type": "markdown",
      "metadata": {
        "id": "48v3NpxOi_in",
        "colab_type": "text"
      },
      "source": [
        "### Train\n",
        "Train the neural network on the preprocessed data. If you have a hard time getting a good loss, check the forms to see if anyone is having the same problem."
      ]
    },
    {
      "cell_type": "code",
      "metadata": {
        "scrolled": true,
        "id": "FR5HDhFui_ip",
        "colab_type": "code",
        "colab": {
          "base_uri": "https://localhost:8080/",
          "height": 1000
        },
        "outputId": "c73bf107-b996-4bb6-8880-4d48bebad8b2"
      },
      "source": [
        "\"\"\"\n",
        "DON'T MODIFY ANYTHING IN THIS CELL\n",
        "\"\"\"\n",
        "def get_accuracy(target, logits):\n",
        "    \"\"\"\n",
        "    Calculate accuracy\n",
        "    \"\"\"\n",
        "    max_seq = max(target.shape[1], logits.shape[1])\n",
        "    if max_seq - target.shape[1]:\n",
        "        target = np.pad(\n",
        "            target,\n",
        "            [(0,0),(0,max_seq - target.shape[1])],\n",
        "            'constant')\n",
        "    if max_seq - logits.shape[1]:\n",
        "        logits = np.pad(\n",
        "            logits,\n",
        "            [(0,0),(0,max_seq - logits.shape[1])],\n",
        "            'constant')\n",
        "\n",
        "    return np.mean(np.equal(target, logits))\n",
        "\n",
        "# Split data to training and validation sets\n",
        "train_source = source_int_text[batch_size:]\n",
        "train_target = target_int_text[batch_size:]\n",
        "valid_source = source_int_text[:batch_size]\n",
        "valid_target = target_int_text[:batch_size]\n",
        "(valid_sources_batch, valid_targets_batch, valid_sources_lengths, valid_targets_lengths ) = next(get_batches(valid_source,\n",
        "                                                                                                             valid_target,\n",
        "                                                                                                             batch_size,\n",
        "                                                                                                             source_vocab_to_int['<PAD>'],\n",
        "                                                                                                             target_vocab_to_int['<PAD>']))                                                                                                  \n",
        "with tf.Session(graph=train_graph) as sess:\n",
        "    sess.run(tf.global_variables_initializer())\n",
        "\n",
        "    for epoch_i in range(epochs):\n",
        "        for batch_i, (source_batch, target_batch, sources_lengths, targets_lengths) in enumerate(\n",
        "                get_batches(train_source, train_target, batch_size,\n",
        "                            source_vocab_to_int['<PAD>'],\n",
        "                            target_vocab_to_int['<PAD>'])):\n",
        "\n",
        "            _, loss = sess.run(\n",
        "                [train_op, cost],\n",
        "                {input_data: source_batch,\n",
        "                 targets: target_batch,\n",
        "                 lr: learning_rate,\n",
        "                 target_sequence_length: targets_lengths,\n",
        "                 source_sequence_length: sources_lengths,\n",
        "                 keep_prob: keep_probability})\n",
        "\n",
        "\n",
        "            if batch_i % display_step == 0 and batch_i > 0:\n",
        "\n",
        "\n",
        "                batch_train_logits = sess.run(\n",
        "                    inference_logits,\n",
        "                    {input_data: source_batch,\n",
        "                     source_sequence_length: sources_lengths,\n",
        "                     target_sequence_length: targets_lengths,\n",
        "                     keep_prob: 1.0})\n",
        "\n",
        "\n",
        "                batch_valid_logits = sess.run(\n",
        "                    inference_logits,\n",
        "                    {input_data: valid_sources_batch,\n",
        "                     source_sequence_length: valid_sources_lengths,\n",
        "                     target_sequence_length: valid_targets_lengths,\n",
        "                     keep_prob: 1.0})\n",
        "\n",
        "                train_acc = get_accuracy(target_batch, batch_train_logits)\n",
        "\n",
        "                valid_acc = get_accuracy(valid_targets_batch, batch_valid_logits)\n",
        "\n",
        "                print('Epoch {:>3} Batch {:>4}/{} - Train Accuracy: {:>6.4f}, Validation Accuracy: {:>6.4f}, Loss: {:>6.4f}'\n",
        "                      .format(epoch_i, batch_i, len(source_int_text) // batch_size, train_acc, valid_acc, loss))\n",
        "\n",
        "    # Save Model\n",
        "    saver = tf.train.Saver()\n",
        "    saver.save(sess, save_path)\n",
        "    print('Model Trained and Saved')"
      ],
      "execution_count": 21,
      "outputs": [
        {
          "output_type": "stream",
          "text": [
            "Epoch   0 Batch   20/538 - Train Accuracy: 0.2878, Validation Accuracy: 0.3354, Loss: 2.8729\n",
            "Epoch   0 Batch   40/538 - Train Accuracy: 0.3748, Validation Accuracy: 0.3915, Loss: 1.9911\n",
            "Epoch   0 Batch   60/538 - Train Accuracy: 0.3371, Validation Accuracy: 0.4036, Loss: 1.7056\n",
            "Epoch   0 Batch   80/538 - Train Accuracy: 0.4059, Validation Accuracy: 0.4670, Loss: 1.4213\n",
            "Epoch   0 Batch  100/538 - Train Accuracy: 0.4732, Validation Accuracy: 0.5288, Loss: 1.1988\n",
            "Epoch   0 Batch  120/538 - Train Accuracy: 0.4852, Validation Accuracy: 0.5378, Loss: 1.0707\n",
            "Epoch   0 Batch  140/538 - Train Accuracy: 0.4705, Validation Accuracy: 0.5414, Loss: 1.0771\n",
            "Epoch   0 Batch  160/538 - Train Accuracy: 0.5340, Validation Accuracy: 0.5479, Loss: 0.9033\n",
            "Epoch   0 Batch  180/538 - Train Accuracy: 0.5588, Validation Accuracy: 0.5627, Loss: 0.8862\n",
            "Epoch   0 Batch  200/538 - Train Accuracy: 0.5777, Validation Accuracy: 0.5861, Loss: 0.8296\n",
            "Epoch   0 Batch  220/538 - Train Accuracy: 0.5419, Validation Accuracy: 0.5911, Loss: 0.7847\n",
            "Epoch   0 Batch  240/538 - Train Accuracy: 0.5736, Validation Accuracy: 0.6009, Loss: 0.8170\n",
            "Epoch   0 Batch  260/538 - Train Accuracy: 0.5638, Validation Accuracy: 0.6005, Loss: 0.7392\n",
            "Epoch   0 Batch  280/538 - Train Accuracy: 0.6306, Validation Accuracy: 0.6112, Loss: 0.6994\n",
            "Epoch   0 Batch  300/538 - Train Accuracy: 0.6049, Validation Accuracy: 0.6096, Loss: 0.6942\n",
            "Epoch   0 Batch  320/538 - Train Accuracy: 0.6209, Validation Accuracy: 0.6278, Loss: 0.6752\n",
            "Epoch   0 Batch  340/538 - Train Accuracy: 0.5934, Validation Accuracy: 0.6204, Loss: 0.7060\n",
            "Epoch   0 Batch  360/538 - Train Accuracy: 0.6061, Validation Accuracy: 0.6280, Loss: 0.6664\n",
            "Epoch   0 Batch  380/538 - Train Accuracy: 0.6352, Validation Accuracy: 0.6296, Loss: 0.6446\n",
            "Epoch   0 Batch  400/538 - Train Accuracy: 0.6230, Validation Accuracy: 0.6339, Loss: 0.6024\n",
            "Epoch   0 Batch  420/538 - Train Accuracy: 0.6441, Validation Accuracy: 0.6380, Loss: 0.6108\n",
            "Epoch   0 Batch  440/538 - Train Accuracy: 0.6416, Validation Accuracy: 0.6410, Loss: 0.6285\n",
            "Epoch   0 Batch  460/538 - Train Accuracy: 0.6430, Validation Accuracy: 0.6680, Loss: 0.5646\n",
            "Epoch   0 Batch  480/538 - Train Accuracy: 0.6520, Validation Accuracy: 0.6586, Loss: 0.5530\n",
            "Epoch   0 Batch  500/538 - Train Accuracy: 0.7085, Validation Accuracy: 0.6950, Loss: 0.5023\n",
            "Epoch   0 Batch  520/538 - Train Accuracy: 0.6986, Validation Accuracy: 0.6781, Loss: 0.5452\n",
            "Epoch   1 Batch   20/538 - Train Accuracy: 0.7070, Validation Accuracy: 0.6902, Loss: 0.5096\n",
            "Epoch   1 Batch   40/538 - Train Accuracy: 0.7237, Validation Accuracy: 0.7127, Loss: 0.4420\n",
            "Epoch   1 Batch   60/538 - Train Accuracy: 0.7369, Validation Accuracy: 0.7159, Loss: 0.4779\n",
            "Epoch   1 Batch   80/538 - Train Accuracy: 0.7178, Validation Accuracy: 0.7321, Loss: 0.4922\n",
            "Epoch   1 Batch  100/538 - Train Accuracy: 0.7459, Validation Accuracy: 0.7392, Loss: 0.4342\n",
            "Epoch   1 Batch  120/538 - Train Accuracy: 0.7424, Validation Accuracy: 0.7342, Loss: 0.4135\n",
            "Epoch   1 Batch  140/538 - Train Accuracy: 0.7389, Validation Accuracy: 0.7507, Loss: 0.4542\n",
            "Epoch   1 Batch  160/538 - Train Accuracy: 0.7513, Validation Accuracy: 0.7530, Loss: 0.3950\n",
            "Epoch   1 Batch  180/538 - Train Accuracy: 0.7941, Validation Accuracy: 0.7516, Loss: 0.3861\n",
            "Epoch   1 Batch  200/538 - Train Accuracy: 0.7857, Validation Accuracy: 0.7607, Loss: 0.3664\n",
            "Epoch   1 Batch  220/538 - Train Accuracy: 0.7699, Validation Accuracy: 0.7676, Loss: 0.3533\n",
            "Epoch   1 Batch  240/538 - Train Accuracy: 0.7959, Validation Accuracy: 0.7782, Loss: 0.3558\n",
            "Epoch   1 Batch  260/538 - Train Accuracy: 0.7623, Validation Accuracy: 0.7797, Loss: 0.3278\n",
            "Epoch   1 Batch  280/538 - Train Accuracy: 0.8170, Validation Accuracy: 0.7944, Loss: 0.2946\n",
            "Epoch   1 Batch  300/538 - Train Accuracy: 0.8300, Validation Accuracy: 0.8006, Loss: 0.2954\n",
            "Epoch   1 Batch  320/538 - Train Accuracy: 0.8168, Validation Accuracy: 0.8034, Loss: 0.2840\n",
            "Epoch   1 Batch  340/538 - Train Accuracy: 0.8391, Validation Accuracy: 0.8182, Loss: 0.3028\n",
            "Epoch   1 Batch  360/538 - Train Accuracy: 0.8326, Validation Accuracy: 0.8145, Loss: 0.2738\n",
            "Epoch   1 Batch  380/538 - Train Accuracy: 0.8391, Validation Accuracy: 0.8242, Loss: 0.2511\n",
            "Epoch   1 Batch  400/538 - Train Accuracy: 0.8406, Validation Accuracy: 0.8198, Loss: 0.2491\n",
            "Epoch   1 Batch  420/538 - Train Accuracy: 0.8771, Validation Accuracy: 0.8461, Loss: 0.2345\n",
            "Epoch   1 Batch  440/538 - Train Accuracy: 0.8496, Validation Accuracy: 0.8489, Loss: 0.2487\n",
            "Epoch   1 Batch  460/538 - Train Accuracy: 0.8389, Validation Accuracy: 0.8354, Loss: 0.2270\n",
            "Epoch   1 Batch  480/538 - Train Accuracy: 0.8908, Validation Accuracy: 0.8441, Loss: 0.2083\n",
            "Epoch   1 Batch  500/538 - Train Accuracy: 0.8881, Validation Accuracy: 0.8631, Loss: 0.1757\n",
            "Epoch   1 Batch  520/538 - Train Accuracy: 0.8725, Validation Accuracy: 0.8464, Loss: 0.1997\n",
            "Epoch   2 Batch   20/538 - Train Accuracy: 0.8856, Validation Accuracy: 0.8643, Loss: 0.1782\n",
            "Epoch   2 Batch   40/538 - Train Accuracy: 0.9032, Validation Accuracy: 0.8722, Loss: 0.1458\n",
            "Epoch   2 Batch   60/538 - Train Accuracy: 0.9018, Validation Accuracy: 0.8881, Loss: 0.1652\n",
            "Epoch   2 Batch   80/538 - Train Accuracy: 0.8895, Validation Accuracy: 0.8837, Loss: 0.1687\n",
            "Epoch   2 Batch  100/538 - Train Accuracy: 0.8990, Validation Accuracy: 0.8844, Loss: 0.1375\n",
            "Epoch   2 Batch  120/538 - Train Accuracy: 0.8961, Validation Accuracy: 0.8784, Loss: 0.1296\n",
            "Epoch   2 Batch  140/538 - Train Accuracy: 0.8760, Validation Accuracy: 0.8732, Loss: 0.1639\n",
            "Epoch   2 Batch  160/538 - Train Accuracy: 0.8850, Validation Accuracy: 0.8777, Loss: 0.1247\n",
            "Epoch   2 Batch  180/538 - Train Accuracy: 0.9074, Validation Accuracy: 0.8924, Loss: 0.1311\n",
            "Epoch   2 Batch  200/538 - Train Accuracy: 0.9086, Validation Accuracy: 0.8945, Loss: 0.1159\n",
            "Epoch   2 Batch  220/538 - Train Accuracy: 0.9005, Validation Accuracy: 0.8888, Loss: 0.1271\n",
            "Epoch   2 Batch  240/538 - Train Accuracy: 0.8949, Validation Accuracy: 0.8975, Loss: 0.1240\n",
            "Epoch   2 Batch  260/538 - Train Accuracy: 0.8756, Validation Accuracy: 0.8963, Loss: 0.1197\n",
            "Epoch   2 Batch  280/538 - Train Accuracy: 0.9260, Validation Accuracy: 0.9073, Loss: 0.1029\n",
            "Epoch   2 Batch  300/538 - Train Accuracy: 0.9103, Validation Accuracy: 0.9070, Loss: 0.1103\n",
            "Epoch   2 Batch  320/538 - Train Accuracy: 0.9269, Validation Accuracy: 0.9102, Loss: 0.0961\n",
            "Epoch   2 Batch  340/538 - Train Accuracy: 0.9143, Validation Accuracy: 0.9174, Loss: 0.1127\n",
            "Epoch   2 Batch  360/538 - Train Accuracy: 0.9221, Validation Accuracy: 0.9110, Loss: 0.1082\n",
            "Epoch   2 Batch  380/538 - Train Accuracy: 0.9150, Validation Accuracy: 0.9061, Loss: 0.0890\n",
            "Epoch   2 Batch  400/538 - Train Accuracy: 0.9187, Validation Accuracy: 0.9036, Loss: 0.0987\n",
            "Epoch   2 Batch  420/538 - Train Accuracy: 0.9256, Validation Accuracy: 0.9334, Loss: 0.0904\n",
            "Epoch   2 Batch  440/538 - Train Accuracy: 0.9154, Validation Accuracy: 0.9164, Loss: 0.1013\n",
            "Epoch   2 Batch  460/538 - Train Accuracy: 0.9048, Validation Accuracy: 0.9125, Loss: 0.0994\n",
            "Epoch   2 Batch  480/538 - Train Accuracy: 0.9315, Validation Accuracy: 0.9205, Loss: 0.0847\n",
            "Epoch   2 Batch  500/538 - Train Accuracy: 0.9336, Validation Accuracy: 0.9109, Loss: 0.0671\n",
            "Epoch   2 Batch  520/538 - Train Accuracy: 0.9297, Validation Accuracy: 0.9281, Loss: 0.0872\n",
            "Epoch   3 Batch   20/538 - Train Accuracy: 0.9384, Validation Accuracy: 0.9103, Loss: 0.0839\n",
            "Epoch   3 Batch   40/538 - Train Accuracy: 0.9222, Validation Accuracy: 0.9199, Loss: 0.0660\n",
            "Epoch   3 Batch   60/538 - Train Accuracy: 0.9273, Validation Accuracy: 0.9153, Loss: 0.0788\n",
            "Epoch   3 Batch   80/538 - Train Accuracy: 0.9354, Validation Accuracy: 0.9107, Loss: 0.0799\n",
            "Epoch   3 Batch  100/538 - Train Accuracy: 0.9354, Validation Accuracy: 0.9190, Loss: 0.0647\n",
            "Epoch   3 Batch  120/538 - Train Accuracy: 0.9557, Validation Accuracy: 0.9290, Loss: 0.0632\n",
            "Epoch   3 Batch  140/538 - Train Accuracy: 0.9088, Validation Accuracy: 0.9205, Loss: 0.0940\n",
            "Epoch   3 Batch  160/538 - Train Accuracy: 0.9148, Validation Accuracy: 0.9272, Loss: 0.0604\n",
            "Epoch   3 Batch  180/538 - Train Accuracy: 0.9410, Validation Accuracy: 0.9371, Loss: 0.0711\n",
            "Epoch   3 Batch  200/538 - Train Accuracy: 0.9510, Validation Accuracy: 0.9324, Loss: 0.0567\n",
            "Epoch   3 Batch  220/538 - Train Accuracy: 0.9250, Validation Accuracy: 0.9258, Loss: 0.0735\n",
            "Epoch   3 Batch  240/538 - Train Accuracy: 0.9479, Validation Accuracy: 0.9391, Loss: 0.0717\n",
            "Epoch   3 Batch  260/538 - Train Accuracy: 0.9087, Validation Accuracy: 0.9373, Loss: 0.0727\n",
            "Epoch   3 Batch  280/538 - Train Accuracy: 0.9429, Validation Accuracy: 0.9384, Loss: 0.0586\n",
            "Epoch   3 Batch  300/538 - Train Accuracy: 0.9373, Validation Accuracy: 0.9306, Loss: 0.0663\n",
            "Epoch   3 Batch  320/538 - Train Accuracy: 0.9453, Validation Accuracy: 0.9359, Loss: 0.0556\n",
            "Epoch   3 Batch  340/538 - Train Accuracy: 0.9313, Validation Accuracy: 0.9526, Loss: 0.0634\n",
            "Epoch   3 Batch  360/538 - Train Accuracy: 0.9465, Validation Accuracy: 0.9542, Loss: 0.0663\n",
            "Epoch   3 Batch  380/538 - Train Accuracy: 0.9314, Validation Accuracy: 0.9435, Loss: 0.0597\n",
            "Epoch   3 Batch  400/538 - Train Accuracy: 0.9537, Validation Accuracy: 0.9545, Loss: 0.0615\n",
            "Epoch   3 Batch  420/538 - Train Accuracy: 0.9471, Validation Accuracy: 0.9439, Loss: 0.0592\n",
            "Epoch   3 Batch  440/538 - Train Accuracy: 0.9379, Validation Accuracy: 0.9380, Loss: 0.0630\n",
            "Epoch   3 Batch  460/538 - Train Accuracy: 0.9342, Validation Accuracy: 0.9551, Loss: 0.0664\n",
            "Epoch   3 Batch  480/538 - Train Accuracy: 0.9533, Validation Accuracy: 0.9466, Loss: 0.0542\n",
            "Epoch   3 Batch  500/538 - Train Accuracy: 0.9482, Validation Accuracy: 0.9419, Loss: 0.0416\n",
            "Epoch   3 Batch  520/538 - Train Accuracy: 0.9481, Validation Accuracy: 0.9466, Loss: 0.0591\n",
            "Epoch   4 Batch   20/538 - Train Accuracy: 0.9526, Validation Accuracy: 0.9428, Loss: 0.0596\n",
            "Epoch   4 Batch   40/538 - Train Accuracy: 0.9439, Validation Accuracy: 0.9471, Loss: 0.0417\n",
            "Epoch   4 Batch   60/538 - Train Accuracy: 0.9461, Validation Accuracy: 0.9366, Loss: 0.0585\n",
            "Epoch   4 Batch   80/538 - Train Accuracy: 0.9389, Validation Accuracy: 0.9432, Loss: 0.0547\n",
            "Epoch   4 Batch  100/538 - Train Accuracy: 0.9391, Validation Accuracy: 0.9483, Loss: 0.0478\n",
            "Epoch   4 Batch  120/538 - Train Accuracy: 0.9709, Validation Accuracy: 0.9616, Loss: 0.0420\n",
            "Epoch   4 Batch  140/538 - Train Accuracy: 0.9392, Validation Accuracy: 0.9393, Loss: 0.0701\n",
            "Epoch   4 Batch  160/538 - Train Accuracy: 0.9392, Validation Accuracy: 0.9366, Loss: 0.0474\n",
            "Epoch   4 Batch  180/538 - Train Accuracy: 0.9488, Validation Accuracy: 0.9391, Loss: 0.0472\n",
            "Epoch   4 Batch  200/538 - Train Accuracy: 0.9604, Validation Accuracy: 0.9521, Loss: 0.0410\n",
            "Epoch   4 Batch  220/538 - Train Accuracy: 0.9291, Validation Accuracy: 0.9412, Loss: 0.0572\n",
            "Epoch   4 Batch  240/538 - Train Accuracy: 0.9598, Validation Accuracy: 0.9535, Loss: 0.0525\n",
            "Epoch   4 Batch  260/538 - Train Accuracy: 0.9325, Validation Accuracy: 0.9405, Loss: 0.0541\n",
            "Epoch   4 Batch  280/538 - Train Accuracy: 0.9541, Validation Accuracy: 0.9515, Loss: 0.0451\n",
            "Epoch   4 Batch  300/538 - Train Accuracy: 0.9490, Validation Accuracy: 0.9510, Loss: 0.0518\n",
            "Epoch   4 Batch  320/538 - Train Accuracy: 0.9546, Validation Accuracy: 0.9528, Loss: 0.0429\n",
            "Epoch   4 Batch  340/538 - Train Accuracy: 0.9377, Validation Accuracy: 0.9538, Loss: 0.0518\n",
            "Epoch   4 Batch  360/538 - Train Accuracy: 0.9529, Validation Accuracy: 0.9593, Loss: 0.0469\n",
            "Epoch   4 Batch  380/538 - Train Accuracy: 0.9619, Validation Accuracy: 0.9492, Loss: 0.0428\n",
            "Epoch   4 Batch  400/538 - Train Accuracy: 0.9626, Validation Accuracy: 0.9567, Loss: 0.0481\n",
            "Epoch   4 Batch  420/538 - Train Accuracy: 0.9582, Validation Accuracy: 0.9574, Loss: 0.0450\n",
            "Epoch   4 Batch  440/538 - Train Accuracy: 0.9611, Validation Accuracy: 0.9498, Loss: 0.0467\n",
            "Epoch   4 Batch  460/538 - Train Accuracy: 0.9414, Validation Accuracy: 0.9620, Loss: 0.0446\n",
            "Epoch   4 Batch  480/538 - Train Accuracy: 0.9674, Validation Accuracy: 0.9522, Loss: 0.0414\n",
            "Epoch   4 Batch  500/538 - Train Accuracy: 0.9700, Validation Accuracy: 0.9448, Loss: 0.0322\n",
            "Epoch   4 Batch  520/538 - Train Accuracy: 0.9548, Validation Accuracy: 0.9579, Loss: 0.0442\n",
            "Epoch   5 Batch   20/538 - Train Accuracy: 0.9680, Validation Accuracy: 0.9643, Loss: 0.0432\n",
            "Epoch   5 Batch   40/538 - Train Accuracy: 0.9576, Validation Accuracy: 0.9517, Loss: 0.0357\n",
            "Epoch   5 Batch   60/538 - Train Accuracy: 0.9609, Validation Accuracy: 0.9512, Loss: 0.0411\n",
            "Epoch   5 Batch   80/538 - Train Accuracy: 0.9641, Validation Accuracy: 0.9517, Loss: 0.0425\n",
            "Epoch   5 Batch  100/538 - Train Accuracy: 0.9535, Validation Accuracy: 0.9593, Loss: 0.0341\n",
            "Epoch   5 Batch  120/538 - Train Accuracy: 0.9643, Validation Accuracy: 0.9609, Loss: 0.0322\n",
            "Epoch   5 Batch  140/538 - Train Accuracy: 0.9537, Validation Accuracy: 0.9611, Loss: 0.0484\n",
            "Epoch   5 Batch  160/538 - Train Accuracy: 0.9410, Validation Accuracy: 0.9499, Loss: 0.0374\n",
            "Epoch   5 Batch  180/538 - Train Accuracy: 0.9559, Validation Accuracy: 0.9654, Loss: 0.0382\n",
            "Epoch   5 Batch  200/538 - Train Accuracy: 0.9680, Validation Accuracy: 0.9636, Loss: 0.0309\n",
            "Epoch   5 Batch  220/538 - Train Accuracy: 0.9537, Validation Accuracy: 0.9554, Loss: 0.0447\n",
            "Epoch   5 Batch  240/538 - Train Accuracy: 0.9709, Validation Accuracy: 0.9563, Loss: 0.0376\n",
            "Epoch   5 Batch  260/538 - Train Accuracy: 0.9496, Validation Accuracy: 0.9558, Loss: 0.0411\n",
            "Epoch   5 Batch  280/538 - Train Accuracy: 0.9747, Validation Accuracy: 0.9574, Loss: 0.0355\n",
            "Epoch   5 Batch  300/538 - Train Accuracy: 0.9622, Validation Accuracy: 0.9599, Loss: 0.0396\n",
            "Epoch   5 Batch  320/538 - Train Accuracy: 0.9721, Validation Accuracy: 0.9615, Loss: 0.0353\n",
            "Epoch   5 Batch  340/538 - Train Accuracy: 0.9600, Validation Accuracy: 0.9640, Loss: 0.0395\n",
            "Epoch   5 Batch  360/538 - Train Accuracy: 0.9604, Validation Accuracy: 0.9664, Loss: 0.0349\n",
            "Epoch   5 Batch  380/538 - Train Accuracy: 0.9676, Validation Accuracy: 0.9513, Loss: 0.0363\n",
            "Epoch   5 Batch  400/538 - Train Accuracy: 0.9751, Validation Accuracy: 0.9663, Loss: 0.0375\n",
            "Epoch   5 Batch  420/538 - Train Accuracy: 0.9701, Validation Accuracy: 0.9689, Loss: 0.0354\n",
            "Epoch   5 Batch  440/538 - Train Accuracy: 0.9686, Validation Accuracy: 0.9773, Loss: 0.0370\n",
            "Epoch   5 Batch  460/538 - Train Accuracy: 0.9505, Validation Accuracy: 0.9703, Loss: 0.0403\n",
            "Epoch   5 Batch  480/538 - Train Accuracy: 0.9712, Validation Accuracy: 0.9540, Loss: 0.0323\n",
            "Epoch   5 Batch  500/538 - Train Accuracy: 0.9759, Validation Accuracy: 0.9554, Loss: 0.0261\n",
            "Epoch   5 Batch  520/538 - Train Accuracy: 0.9602, Validation Accuracy: 0.9570, Loss: 0.0361\n",
            "Epoch   6 Batch   20/538 - Train Accuracy: 0.9714, Validation Accuracy: 0.9688, Loss: 0.0353\n",
            "Epoch   6 Batch   40/538 - Train Accuracy: 0.9656, Validation Accuracy: 0.9656, Loss: 0.0263\n",
            "Epoch   6 Batch   60/538 - Train Accuracy: 0.9582, Validation Accuracy: 0.9661, Loss: 0.0343\n",
            "Epoch   6 Batch   80/538 - Train Accuracy: 0.9762, Validation Accuracy: 0.9558, Loss: 0.0294\n",
            "Epoch   6 Batch  100/538 - Train Accuracy: 0.9744, Validation Accuracy: 0.9647, Loss: 0.0293\n",
            "Epoch   6 Batch  120/538 - Train Accuracy: 0.9730, Validation Accuracy: 0.9631, Loss: 0.0247\n",
            "Epoch   6 Batch  140/538 - Train Accuracy: 0.9602, Validation Accuracy: 0.9608, Loss: 0.0448\n",
            "Epoch   6 Batch  160/538 - Train Accuracy: 0.9587, Validation Accuracy: 0.9519, Loss: 0.0290\n",
            "Epoch   6 Batch  180/538 - Train Accuracy: 0.9678, Validation Accuracy: 0.9616, Loss: 0.0316\n",
            "Epoch   6 Batch  200/538 - Train Accuracy: 0.9770, Validation Accuracy: 0.9657, Loss: 0.0260\n",
            "Epoch   6 Batch  220/538 - Train Accuracy: 0.9507, Validation Accuracy: 0.9602, Loss: 0.0376\n",
            "Epoch   6 Batch  240/538 - Train Accuracy: 0.9611, Validation Accuracy: 0.9625, Loss: 0.0330\n",
            "Epoch   6 Batch  260/538 - Train Accuracy: 0.9470, Validation Accuracy: 0.9609, Loss: 0.0373\n",
            "Epoch   6 Batch  280/538 - Train Accuracy: 0.9771, Validation Accuracy: 0.9714, Loss: 0.0254\n",
            "Epoch   6 Batch  300/538 - Train Accuracy: 0.9669, Validation Accuracy: 0.9673, Loss: 0.0344\n",
            "Epoch   6 Batch  320/538 - Train Accuracy: 0.9647, Validation Accuracy: 0.9703, Loss: 0.0283\n",
            "Epoch   6 Batch  340/538 - Train Accuracy: 0.9641, Validation Accuracy: 0.9734, Loss: 0.0295\n",
            "Epoch   6 Batch  360/538 - Train Accuracy: 0.9633, Validation Accuracy: 0.9659, Loss: 0.0287\n",
            "Epoch   6 Batch  380/538 - Train Accuracy: 0.9684, Validation Accuracy: 0.9528, Loss: 0.0284\n",
            "Epoch   6 Batch  400/538 - Train Accuracy: 0.9767, Validation Accuracy: 0.9641, Loss: 0.0305\n",
            "Epoch   6 Batch  420/538 - Train Accuracy: 0.9691, Validation Accuracy: 0.9620, Loss: 0.0331\n",
            "Epoch   6 Batch  440/538 - Train Accuracy: 0.9641, Validation Accuracy: 0.9759, Loss: 0.0281\n",
            "Epoch   6 Batch  460/538 - Train Accuracy: 0.9598, Validation Accuracy: 0.9707, Loss: 0.0349\n",
            "Epoch   6 Batch  480/538 - Train Accuracy: 0.9777, Validation Accuracy: 0.9682, Loss: 0.0253\n",
            "Epoch   6 Batch  500/538 - Train Accuracy: 0.9803, Validation Accuracy: 0.9615, Loss: 0.0195\n",
            "Epoch   6 Batch  520/538 - Train Accuracy: 0.9740, Validation Accuracy: 0.9645, Loss: 0.0323\n",
            "Epoch   7 Batch   20/538 - Train Accuracy: 0.9697, Validation Accuracy: 0.9703, Loss: 0.0308\n",
            "Epoch   7 Batch   40/538 - Train Accuracy: 0.9661, Validation Accuracy: 0.9650, Loss: 0.0243\n",
            "Epoch   7 Batch   60/538 - Train Accuracy: 0.9746, Validation Accuracy: 0.9734, Loss: 0.0336\n",
            "Epoch   7 Batch   80/538 - Train Accuracy: 0.9756, Validation Accuracy: 0.9638, Loss: 0.0268\n",
            "Epoch   7 Batch  100/538 - Train Accuracy: 0.9699, Validation Accuracy: 0.9702, Loss: 0.0218\n",
            "Epoch   7 Batch  120/538 - Train Accuracy: 0.9781, Validation Accuracy: 0.9709, Loss: 0.0228\n",
            "Epoch   7 Batch  140/538 - Train Accuracy: 0.9658, Validation Accuracy: 0.9602, Loss: 0.0344\n",
            "Epoch   7 Batch  160/538 - Train Accuracy: 0.9624, Validation Accuracy: 0.9664, Loss: 0.0265\n",
            "Epoch   7 Batch  180/538 - Train Accuracy: 0.9671, Validation Accuracy: 0.9696, Loss: 0.0325\n",
            "Epoch   7 Batch  200/538 - Train Accuracy: 0.9812, Validation Accuracy: 0.9677, Loss: 0.0221\n",
            "Epoch   7 Batch  220/538 - Train Accuracy: 0.9617, Validation Accuracy: 0.9650, Loss: 0.0321\n",
            "Epoch   7 Batch  240/538 - Train Accuracy: 0.9666, Validation Accuracy: 0.9695, Loss: 0.0279\n",
            "Epoch   7 Batch  260/538 - Train Accuracy: 0.9544, Validation Accuracy: 0.9707, Loss: 0.0287\n",
            "Epoch   7 Batch  280/538 - Train Accuracy: 0.9784, Validation Accuracy: 0.9679, Loss: 0.0225\n",
            "Epoch   7 Batch  300/538 - Train Accuracy: 0.9753, Validation Accuracy: 0.9661, Loss: 0.0261\n",
            "Epoch   7 Batch  320/538 - Train Accuracy: 0.9766, Validation Accuracy: 0.9648, Loss: 0.0209\n",
            "Epoch   7 Batch  340/538 - Train Accuracy: 0.9643, Validation Accuracy: 0.9627, Loss: 0.0289\n",
            "Epoch   7 Batch  360/538 - Train Accuracy: 0.9600, Validation Accuracy: 0.9760, Loss: 0.0219\n",
            "Epoch   7 Batch  380/538 - Train Accuracy: 0.9863, Validation Accuracy: 0.9688, Loss: 0.0238\n",
            "Epoch   7 Batch  400/538 - Train Accuracy: 0.9727, Validation Accuracy: 0.9696, Loss: 0.0259\n",
            "Epoch   7 Batch  420/538 - Train Accuracy: 0.9736, Validation Accuracy: 0.9647, Loss: 0.0259\n",
            "Epoch   7 Batch  440/538 - Train Accuracy: 0.9771, Validation Accuracy: 0.9719, Loss: 0.0293\n",
            "Epoch   7 Batch  460/538 - Train Accuracy: 0.9680, Validation Accuracy: 0.9611, Loss: 0.0262\n",
            "Epoch   7 Batch  480/538 - Train Accuracy: 0.9747, Validation Accuracy: 0.9643, Loss: 0.0255\n",
            "Epoch   7 Batch  500/538 - Train Accuracy: 0.9775, Validation Accuracy: 0.9588, Loss: 0.0183\n",
            "Epoch   7 Batch  520/538 - Train Accuracy: 0.9738, Validation Accuracy: 0.9709, Loss: 0.0266\n",
            "Epoch   8 Batch   20/538 - Train Accuracy: 0.9767, Validation Accuracy: 0.9696, Loss: 0.0277\n",
            "Epoch   8 Batch   40/538 - Train Accuracy: 0.9689, Validation Accuracy: 0.9691, Loss: 0.0196\n",
            "Epoch   8 Batch   60/538 - Train Accuracy: 0.9725, Validation Accuracy: 0.9677, Loss: 0.0244\n",
            "Epoch   8 Batch   80/538 - Train Accuracy: 0.9799, Validation Accuracy: 0.9743, Loss: 0.0233\n",
            "Epoch   8 Batch  100/538 - Train Accuracy: 0.9754, Validation Accuracy: 0.9716, Loss: 0.0219\n",
            "Epoch   8 Batch  120/538 - Train Accuracy: 0.9873, Validation Accuracy: 0.9755, Loss: 0.0168\n",
            "Epoch   8 Batch  140/538 - Train Accuracy: 0.9709, Validation Accuracy: 0.9680, Loss: 0.0335\n",
            "Epoch   8 Batch  160/538 - Train Accuracy: 0.9641, Validation Accuracy: 0.9599, Loss: 0.0233\n",
            "Epoch   8 Batch  180/538 - Train Accuracy: 0.9743, Validation Accuracy: 0.9668, Loss: 0.0287\n",
            "Epoch   8 Batch  200/538 - Train Accuracy: 0.9789, Validation Accuracy: 0.9643, Loss: 0.0187\n",
            "Epoch   8 Batch  220/538 - Train Accuracy: 0.9643, Validation Accuracy: 0.9663, Loss: 0.0282\n",
            "Epoch   8 Batch  240/538 - Train Accuracy: 0.9604, Validation Accuracy: 0.9693, Loss: 0.0245\n",
            "Epoch   8 Batch  260/538 - Train Accuracy: 0.9596, Validation Accuracy: 0.9691, Loss: 0.0265\n",
            "Epoch   8 Batch  280/538 - Train Accuracy: 0.9812, Validation Accuracy: 0.9728, Loss: 0.0201\n",
            "Epoch   8 Batch  300/538 - Train Accuracy: 0.9758, Validation Accuracy: 0.9682, Loss: 0.0235\n",
            "Epoch   8 Batch  320/538 - Train Accuracy: 0.9784, Validation Accuracy: 0.9712, Loss: 0.0200\n",
            "Epoch   8 Batch  340/538 - Train Accuracy: 0.9643, Validation Accuracy: 0.9714, Loss: 0.0248\n",
            "Epoch   8 Batch  360/538 - Train Accuracy: 0.9799, Validation Accuracy: 0.9686, Loss: 0.0182\n",
            "Epoch   8 Batch  380/538 - Train Accuracy: 0.9832, Validation Accuracy: 0.9814, Loss: 0.0222\n",
            "Epoch   8 Batch  400/538 - Train Accuracy: 0.9872, Validation Accuracy: 0.9727, Loss: 0.0231\n",
            "Epoch   8 Batch  420/538 - Train Accuracy: 0.9680, Validation Accuracy: 0.9730, Loss: 0.0243\n",
            "Epoch   8 Batch  440/538 - Train Accuracy: 0.9781, Validation Accuracy: 0.9698, Loss: 0.0249\n",
            "Epoch   8 Batch  460/538 - Train Accuracy: 0.9632, Validation Accuracy: 0.9695, Loss: 0.0257\n",
            "Epoch   8 Batch  480/538 - Train Accuracy: 0.9812, Validation Accuracy: 0.9643, Loss: 0.0242\n",
            "Epoch   8 Batch  500/538 - Train Accuracy: 0.9899, Validation Accuracy: 0.9673, Loss: 0.0138\n",
            "Epoch   8 Batch  520/538 - Train Accuracy: 0.9847, Validation Accuracy: 0.9693, Loss: 0.0245\n",
            "Epoch   9 Batch   20/538 - Train Accuracy: 0.9838, Validation Accuracy: 0.9707, Loss: 0.0231\n",
            "Epoch   9 Batch   40/538 - Train Accuracy: 0.9743, Validation Accuracy: 0.9734, Loss: 0.0142\n",
            "Epoch   9 Batch   60/538 - Train Accuracy: 0.9803, Validation Accuracy: 0.9796, Loss: 0.0243\n",
            "Epoch   9 Batch   80/538 - Train Accuracy: 0.9818, Validation Accuracy: 0.9586, Loss: 0.0205\n",
            "Epoch   9 Batch  100/538 - Train Accuracy: 0.9812, Validation Accuracy: 0.9719, Loss: 0.0210\n",
            "Epoch   9 Batch  120/538 - Train Accuracy: 0.9877, Validation Accuracy: 0.9698, Loss: 0.0150\n",
            "Epoch   9 Batch  140/538 - Train Accuracy: 0.9725, Validation Accuracy: 0.9663, Loss: 0.0320\n",
            "Epoch   9 Batch  160/538 - Train Accuracy: 0.9784, Validation Accuracy: 0.9696, Loss: 0.0166\n",
            "Epoch   9 Batch  180/538 - Train Accuracy: 0.9665, Validation Accuracy: 0.9640, Loss: 0.0239\n",
            "Epoch   9 Batch  200/538 - Train Accuracy: 0.9771, Validation Accuracy: 0.9719, Loss: 0.0189\n",
            "Epoch   9 Batch  220/538 - Train Accuracy: 0.9630, Validation Accuracy: 0.9666, Loss: 0.0221\n",
            "Epoch   9 Batch  240/538 - Train Accuracy: 0.9734, Validation Accuracy: 0.9693, Loss: 0.0214\n",
            "Epoch   9 Batch  260/538 - Train Accuracy: 0.9667, Validation Accuracy: 0.9711, Loss: 0.0241\n",
            "Epoch   9 Batch  280/538 - Train Accuracy: 0.9816, Validation Accuracy: 0.9748, Loss: 0.0181\n",
            "Epoch   9 Batch  300/538 - Train Accuracy: 0.9784, Validation Accuracy: 0.9755, Loss: 0.0181\n",
            "Epoch   9 Batch  320/538 - Train Accuracy: 0.9801, Validation Accuracy: 0.9762, Loss: 0.0168\n",
            "Epoch   9 Batch  340/538 - Train Accuracy: 0.9793, Validation Accuracy: 0.9703, Loss: 0.0183\n",
            "Epoch   9 Batch  360/538 - Train Accuracy: 0.9766, Validation Accuracy: 0.9721, Loss: 0.0174\n",
            "Epoch   9 Batch  380/538 - Train Accuracy: 0.9828, Validation Accuracy: 0.9640, Loss: 0.0185\n",
            "Epoch   9 Batch  400/538 - Train Accuracy: 0.9807, Validation Accuracy: 0.9686, Loss: 0.0216\n",
            "Epoch   9 Batch  420/538 - Train Accuracy: 0.9764, Validation Accuracy: 0.9657, Loss: 0.0218\n",
            "Epoch   9 Batch  440/538 - Train Accuracy: 0.9816, Validation Accuracy: 0.9689, Loss: 0.0202\n",
            "Epoch   9 Batch  460/538 - Train Accuracy: 0.9712, Validation Accuracy: 0.9755, Loss: 0.0215\n",
            "Epoch   9 Batch  480/538 - Train Accuracy: 0.9831, Validation Accuracy: 0.9803, Loss: 0.0202\n",
            "Epoch   9 Batch  500/538 - Train Accuracy: 0.9893, Validation Accuracy: 0.9741, Loss: 0.0148\n",
            "Epoch   9 Batch  520/538 - Train Accuracy: 0.9829, Validation Accuracy: 0.9741, Loss: 0.0240\n",
            "Model Trained and Saved\n"
          ],
          "name": "stdout"
        }
      ]
    },
    {
      "cell_type": "markdown",
      "metadata": {
        "id": "63PQ1zs8i_ix",
        "colab_type": "text"
      },
      "source": [
        "### Save Parameters\n",
        "Save the `batch_size` and `save_path` parameters for inference."
      ]
    },
    {
      "cell_type": "code",
      "metadata": {
        "id": "EBmlcMiPi_iy",
        "colab_type": "code",
        "colab": {}
      },
      "source": [
        "\"\"\"\n",
        "DON'T MODIFY ANYTHING IN THIS CELL\n",
        "\"\"\"\n",
        "# Save parameters for checkpoint\n",
        "helper.save_params(save_path)"
      ],
      "execution_count": 22,
      "outputs": []
    },
    {
      "cell_type": "markdown",
      "metadata": {
        "id": "qFMRBKsQi_i2",
        "colab_type": "text"
      },
      "source": [
        "# Checkpoint"
      ]
    },
    {
      "cell_type": "code",
      "metadata": {
        "id": "MFyBPRF_i_i3",
        "colab_type": "code",
        "colab": {}
      },
      "source": [
        "\"\"\"\n",
        "DON'T MODIFY ANYTHING IN THIS CELL\n",
        "\"\"\"\n",
        "import tensorflow as tf\n",
        "import numpy as np\n",
        "import helper\n",
        "import problem_unittests as tests\n",
        "\n",
        "_, (source_vocab_to_int, target_vocab_to_int), (source_int_to_vocab, target_int_to_vocab) = helper.load_preprocess()\n",
        "load_path = helper.load_params()"
      ],
      "execution_count": 23,
      "outputs": []
    },
    {
      "cell_type": "markdown",
      "metadata": {
        "id": "BNisNxc7i_i-",
        "colab_type": "text"
      },
      "source": [
        "## Sentence to Sequence\n",
        "To feed a sentence into the model for translation, you first need to preprocess it.  Implement the function `sentence_to_seq()` to preprocess new sentences.\n",
        "\n",
        "- Convert the sentence to lowercase\n",
        "- Convert words into ids using `vocab_to_int`\n",
        " - Convert words not in the vocabulary, to the `<UNK>` word id."
      ]
    },
    {
      "cell_type": "code",
      "metadata": {
        "id": "Z4TEnbHXi_i_",
        "colab_type": "code",
        "colab": {
          "base_uri": "https://localhost:8080/",
          "height": 36
        },
        "outputId": "c2fc6f91-16c1-4c74-915f-7155797ef628"
      },
      "source": [
        "def sentence_to_seq(sentence, vocab_to_int):\n",
        "    \"\"\"\n",
        "    Convert a sentence to a sequence of ids\n",
        "    :param sentence: String\n",
        "    :param vocab_to_int: Dictionary to go from the words to an id\n",
        "    :return: List of word ids\n",
        "    \"\"\"\n",
        "    unknown_id = vocab_to_int['<UNK>']\n",
        "    word_id_list = [\n",
        "        vocab_to_int.get(word, unknown_id) for word in sentence.lower().split()\n",
        "    ]\n",
        "        \n",
        "    return word_id_list\n",
        "\"\"\"\n",
        "DON'T MODIFY ANYTHING IN THIS CELL THAT IS BELOW THIS LINE\n",
        "\"\"\"\n",
        "tests.test_sentence_to_seq(sentence_to_seq)"
      ],
      "execution_count": 25,
      "outputs": [
        {
          "output_type": "stream",
          "text": [
            "Tests Passed\n"
          ],
          "name": "stdout"
        }
      ]
    },
    {
      "cell_type": "markdown",
      "metadata": {
        "id": "O6hpYDzAi_jF",
        "colab_type": "text"
      },
      "source": [
        "## Translate\n",
        "This will translate `translate_sentence` from English to French."
      ]
    },
    {
      "cell_type": "code",
      "metadata": {
        "id": "XzMcCbX_i_jI",
        "colab_type": "code",
        "colab": {
          "base_uri": "https://localhost:8080/",
          "height": 170
        },
        "outputId": "9ca2dba6-25b9-460a-9c1f-db68a85d32d9"
      },
      "source": [
        "translate_sentence = 'he saw a old yellow truck .'\n",
        "\n",
        "\n",
        "\"\"\"\n",
        "DON'T MODIFY ANYTHING IN THIS CELL\n",
        "\"\"\"\n",
        "translate_sentence = sentence_to_seq(translate_sentence, source_vocab_to_int)\n",
        "\n",
        "loaded_graph = tf.Graph()\n",
        "with tf.Session(graph=loaded_graph) as sess:\n",
        "    # Load saved model\n",
        "    loader = tf.train.import_meta_graph(load_path + '.meta')\n",
        "    loader.restore(sess, load_path)\n",
        "\n",
        "    input_data = loaded_graph.get_tensor_by_name('input:0')\n",
        "    logits = loaded_graph.get_tensor_by_name('predictions:0')\n",
        "    target_sequence_length = loaded_graph.get_tensor_by_name('target_sequence_length:0')\n",
        "    source_sequence_length = loaded_graph.get_tensor_by_name('source_sequence_length:0')\n",
        "    keep_prob = loaded_graph.get_tensor_by_name('keep_prob:0')\n",
        "\n",
        "    translate_logits = sess.run(logits, {input_data: [translate_sentence]*batch_size,\n",
        "                                         target_sequence_length: [len(translate_sentence)*2]*batch_size,\n",
        "                                         source_sequence_length: [len(translate_sentence)]*batch_size,\n",
        "                                         keep_prob: 1.0})[0]\n",
        "\n",
        "print('Input')\n",
        "print('  Word Ids:      {}'.format([i for i in translate_sentence]))\n",
        "print('  English Words: {}'.format([source_int_to_vocab[i] for i in translate_sentence]))\n",
        "\n",
        "print('\\nPrediction')\n",
        "print('  Word Ids:      {}'.format([i for i in translate_logits]))\n",
        "print('  French Words: {}'.format(\" \".join([target_int_to_vocab[i] for i in translate_logits])))\n"
      ],
      "execution_count": 26,
      "outputs": [
        {
          "output_type": "stream",
          "text": [
            "INFO:tensorflow:Restoring parameters from checkpoints/dev\n",
            "Input\n",
            "  Word Ids:      [45, 196, 25, 229, 105, 108, 22]\n",
            "  English Words: ['he', 'saw', 'a', 'old', 'yellow', 'truck', '.']\n",
            "\n",
            "Prediction\n",
            "  Word Ids:      [266, 87, 207, 304, 312, 265, 11, 1]\n",
            "  French Words: il a vu un camion jaune . <EOS>\n"
          ],
          "name": "stdout"
        }
      ]
    },
    {
      "cell_type": "markdown",
      "metadata": {
        "id": "ctN02hyzi_jN",
        "colab_type": "text"
      },
      "source": [
        "## Imperfect Translation\n",
        "You might notice that some sentences translate better than others.  Since the dataset you're using only has a vocabulary of 227 English words of the thousands that you use, you're only going to see good results using these words.  For this project, you don't need a perfect translation. However, if you want to create a better translation model, you'll need better data.\n",
        "\n",
        "You can train on the [WMT10 French-English corpus](http://www.statmt.org/wmt10/training-giga-fren.tar).  This dataset has more vocabulary and richer in topics discussed.  However, this will take you days to train, so make sure you've a GPU and the neural network is performing well on dataset we provided.  Just make sure you play with the WMT10 corpus after you've submitted this project."
      ]
    }
  ]
}